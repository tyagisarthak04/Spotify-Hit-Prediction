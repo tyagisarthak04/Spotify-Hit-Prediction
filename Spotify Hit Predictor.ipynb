{
 "cells": [
  {
   "cell_type": "code",
   "execution_count": 1,
   "metadata": {},
   "outputs": [],
   "source": [
    "import numpy as np\n",
    "import pandas as pd\n",
    "import matplotlib.pyplot as plt\n",
    "import seaborn as sns\n",
    "%matplotlib inline"
   ]
  },
  {
   "cell_type": "code",
   "execution_count": 2,
   "metadata": {},
   "outputs": [
    {
     "data": {
      "text/html": [
       "<div>\n",
       "<style scoped>\n",
       "    .dataframe tbody tr th:only-of-type {\n",
       "        vertical-align: middle;\n",
       "    }\n",
       "\n",
       "    .dataframe tbody tr th {\n",
       "        vertical-align: top;\n",
       "    }\n",
       "\n",
       "    .dataframe thead th {\n",
       "        text-align: right;\n",
       "    }\n",
       "</style>\n",
       "<table border=\"1\" class=\"dataframe\">\n",
       "  <thead>\n",
       "    <tr style=\"text-align: right;\">\n",
       "      <th></th>\n",
       "      <th>track</th>\n",
       "      <th>artist</th>\n",
       "      <th>uri</th>\n",
       "      <th>danceability</th>\n",
       "      <th>energy</th>\n",
       "      <th>key</th>\n",
       "      <th>loudness</th>\n",
       "      <th>mode</th>\n",
       "      <th>speechiness</th>\n",
       "      <th>acousticness</th>\n",
       "      <th>instrumentalness</th>\n",
       "      <th>liveness</th>\n",
       "      <th>valence</th>\n",
       "      <th>tempo</th>\n",
       "      <th>duration_ms</th>\n",
       "      <th>time_signature</th>\n",
       "      <th>chorus_hit</th>\n",
       "      <th>sections</th>\n",
       "      <th>target</th>\n",
       "    </tr>\n",
       "  </thead>\n",
       "  <tbody>\n",
       "    <tr>\n",
       "      <th>0</th>\n",
       "      <td>Misty Roses</td>\n",
       "      <td>Astrud Gilberto</td>\n",
       "      <td>spotify:track:50RBM1j1Dw7WYmsGsWg9Tm</td>\n",
       "      <td>0.527</td>\n",
       "      <td>0.316</td>\n",
       "      <td>1</td>\n",
       "      <td>-15.769</td>\n",
       "      <td>1</td>\n",
       "      <td>0.0310</td>\n",
       "      <td>0.693000</td>\n",
       "      <td>0.00699</td>\n",
       "      <td>0.1680</td>\n",
       "      <td>0.543</td>\n",
       "      <td>116.211</td>\n",
       "      <td>158840</td>\n",
       "      <td>4</td>\n",
       "      <td>53.89523</td>\n",
       "      <td>6</td>\n",
       "      <td>0</td>\n",
       "    </tr>\n",
       "    <tr>\n",
       "      <th>1</th>\n",
       "      <td>Never Ever</td>\n",
       "      <td>All Saints</td>\n",
       "      <td>spotify:track:5FTz9qQ94PyUHETyAyfYZN</td>\n",
       "      <td>0.738</td>\n",
       "      <td>0.541</td>\n",
       "      <td>1</td>\n",
       "      <td>-5.485</td>\n",
       "      <td>1</td>\n",
       "      <td>0.0311</td>\n",
       "      <td>0.559000</td>\n",
       "      <td>0.00000</td>\n",
       "      <td>0.0492</td>\n",
       "      <td>0.309</td>\n",
       "      <td>134.187</td>\n",
       "      <td>387573</td>\n",
       "      <td>4</td>\n",
       "      <td>32.16853</td>\n",
       "      <td>16</td>\n",
       "      <td>1</td>\n",
       "    </tr>\n",
       "    <tr>\n",
       "      <th>2</th>\n",
       "      <td>Soul Sermon</td>\n",
       "      <td>Gregg Karukas</td>\n",
       "      <td>spotify:track:6m24oe3lk1UMxq9zq4iPFi</td>\n",
       "      <td>0.736</td>\n",
       "      <td>0.419</td>\n",
       "      <td>0</td>\n",
       "      <td>-10.662</td>\n",
       "      <td>1</td>\n",
       "      <td>0.0300</td>\n",
       "      <td>0.693000</td>\n",
       "      <td>0.49500</td>\n",
       "      <td>0.0809</td>\n",
       "      <td>0.265</td>\n",
       "      <td>93.982</td>\n",
       "      <td>237267</td>\n",
       "      <td>4</td>\n",
       "      <td>42.05369</td>\n",
       "      <td>9</td>\n",
       "      <td>0</td>\n",
       "    </tr>\n",
       "    <tr>\n",
       "      <th>3</th>\n",
       "      <td>Clarinet Marmalade - Live</td>\n",
       "      <td>Alton Purnell</td>\n",
       "      <td>spotify:track:5FOXuiLI6knVtgMUjWKj6x</td>\n",
       "      <td>0.565</td>\n",
       "      <td>0.594</td>\n",
       "      <td>5</td>\n",
       "      <td>-13.086</td>\n",
       "      <td>1</td>\n",
       "      <td>0.0646</td>\n",
       "      <td>0.655000</td>\n",
       "      <td>0.92600</td>\n",
       "      <td>0.6750</td>\n",
       "      <td>0.763</td>\n",
       "      <td>114.219</td>\n",
       "      <td>375933</td>\n",
       "      <td>4</td>\n",
       "      <td>80.99693</td>\n",
       "      <td>10</td>\n",
       "      <td>0</td>\n",
       "    </tr>\n",
       "    <tr>\n",
       "      <th>4</th>\n",
       "      <td>До смерті і довше - Drum &amp; Base and Rock Remix</td>\n",
       "      <td>Skryabin</td>\n",
       "      <td>spotify:track:6CxyIPTqSPvAPXfrIZczs4</td>\n",
       "      <td>0.513</td>\n",
       "      <td>0.760</td>\n",
       "      <td>4</td>\n",
       "      <td>-10.077</td>\n",
       "      <td>1</td>\n",
       "      <td>0.0355</td>\n",
       "      <td>0.000017</td>\n",
       "      <td>0.00339</td>\n",
       "      <td>0.1530</td>\n",
       "      <td>0.961</td>\n",
       "      <td>153.166</td>\n",
       "      <td>430653</td>\n",
       "      <td>4</td>\n",
       "      <td>25.57331</td>\n",
       "      <td>20</td>\n",
       "      <td>0</td>\n",
       "    </tr>\n",
       "  </tbody>\n",
       "</table>\n",
       "</div>"
      ],
      "text/plain": [
       "                                            track           artist  \\\n",
       "0                                     Misty Roses  Astrud Gilberto   \n",
       "1                                      Never Ever       All Saints   \n",
       "2                                     Soul Sermon    Gregg Karukas   \n",
       "3                       Clarinet Marmalade - Live    Alton Purnell   \n",
       "4  До смерті і довше - Drum & Base and Rock Remix         Skryabin   \n",
       "\n",
       "                                    uri  danceability  energy  key  loudness  \\\n",
       "0  spotify:track:50RBM1j1Dw7WYmsGsWg9Tm         0.527   0.316    1   -15.769   \n",
       "1  spotify:track:5FTz9qQ94PyUHETyAyfYZN         0.738   0.541    1    -5.485   \n",
       "2  spotify:track:6m24oe3lk1UMxq9zq4iPFi         0.736   0.419    0   -10.662   \n",
       "3  spotify:track:5FOXuiLI6knVtgMUjWKj6x         0.565   0.594    5   -13.086   \n",
       "4  spotify:track:6CxyIPTqSPvAPXfrIZczs4         0.513   0.760    4   -10.077   \n",
       "\n",
       "   mode  speechiness  acousticness  instrumentalness  liveness  valence  \\\n",
       "0     1       0.0310      0.693000           0.00699    0.1680    0.543   \n",
       "1     1       0.0311      0.559000           0.00000    0.0492    0.309   \n",
       "2     1       0.0300      0.693000           0.49500    0.0809    0.265   \n",
       "3     1       0.0646      0.655000           0.92600    0.6750    0.763   \n",
       "4     1       0.0355      0.000017           0.00339    0.1530    0.961   \n",
       "\n",
       "     tempo  duration_ms  time_signature  chorus_hit  sections  target  \n",
       "0  116.211       158840               4    53.89523         6       0  \n",
       "1  134.187       387573               4    32.16853        16       1  \n",
       "2   93.982       237267               4    42.05369         9       0  \n",
       "3  114.219       375933               4    80.99693        10       0  \n",
       "4  153.166       430653               4    25.57331        20       0  "
      ]
     },
     "execution_count": 2,
     "metadata": {},
     "output_type": "execute_result"
    }
   ],
   "source": [
    "dataset = pd.read_csv(\"dataset-of-90s.csv\")#importing CSV file\n",
    "dataset.head()"
   ]
  },
  {
   "cell_type": "markdown",
   "metadata": {},
   "source": [
    "## Exploratory Data Analysis"
   ]
  },
  {
   "cell_type": "code",
   "execution_count": 3,
   "metadata": {},
   "outputs": [
    {
     "data": {
      "text/plain": [
       "[]"
      ]
     },
     "execution_count": 3,
     "metadata": {},
     "output_type": "execute_result"
    }
   ],
   "source": [
    "features_with_na = [ feature for feature in dataset.columns if dataset[feature].isnull().sum() >1]#extracting feature with nan values\n",
    "features_with_na"
   ]
  },
  {
   "cell_type": "code",
   "execution_count": 4,
   "metadata": {},
   "outputs": [
    {
     "data": {
      "text/plain": [
       "track               0\n",
       "artist              0\n",
       "uri                 0\n",
       "danceability        0\n",
       "energy              0\n",
       "key                 0\n",
       "loudness            0\n",
       "mode                0\n",
       "speechiness         0\n",
       "acousticness        0\n",
       "instrumentalness    0\n",
       "liveness            0\n",
       "valence             0\n",
       "tempo               0\n",
       "duration_ms         0\n",
       "time_signature      0\n",
       "chorus_hit          0\n",
       "sections            0\n",
       "target              0\n",
       "dtype: int64"
      ]
     },
     "execution_count": 4,
     "metadata": {},
     "output_type": "execute_result"
    }
   ],
   "source": [
    "dataset.isnull().sum() #no null values"
   ]
  },
  {
   "cell_type": "code",
   "execution_count": 5,
   "metadata": {},
   "outputs": [
    {
     "data": {
      "text/plain": [
       "['danceability',\n",
       " 'energy',\n",
       " 'key',\n",
       " 'loudness',\n",
       " 'mode',\n",
       " 'speechiness',\n",
       " 'acousticness',\n",
       " 'instrumentalness',\n",
       " 'liveness',\n",
       " 'valence',\n",
       " 'tempo',\n",
       " 'duration_ms',\n",
       " 'time_signature',\n",
       " 'chorus_hit',\n",
       " 'sections',\n",
       " 'target']"
      ]
     },
     "execution_count": 5,
     "metadata": {},
     "output_type": "execute_result"
    }
   ],
   "source": [
    "numerical_feature = [ feature for feature in dataset.columns if dataset[feature].dtypes != \"O\"] #extracting numerical feature\n",
    "numerical_feature"
   ]
  },
  {
   "cell_type": "code",
   "execution_count": 6,
   "metadata": {},
   "outputs": [
    {
     "data": {
      "text/plain": [
       "['key', 'mode', 'time_signature', 'target']"
      ]
     },
     "execution_count": 6,
     "metadata": {},
     "output_type": "execute_result"
    }
   ],
   "source": [
    "discrete_feature = [feature for feature in numerical_feature if len(dataset[feature].unique()) <15] #extracting discrete features\n",
    "discrete_feature"
   ]
  },
  {
   "cell_type": "code",
   "execution_count": 7,
   "metadata": {},
   "outputs": [
    {
     "data": {
      "image/png": "[encoded data removed]",
      "text/plain": [
       "<Figure size 432x288 with 1 Axes>"
      ]
     },
     "metadata": {
      "needs_background": "light"
     },
     "output_type": "display_data"
    },
    {
     "data": {
      "image/png": "[encoded data removed]",
      "text/plain": [
       "<Figure size 432x288 with 1 Axes>"
      ]
     },
     "metadata": {
      "needs_background": "light"
     },
     "output_type": "display_data"
    },
    {
     "data": {
      "image/png": "[encoded data removed]",
      "text/plain": [
       "<Figure size 432x288 with 1 Axes>"
      ]
     },
     "metadata": {
      "needs_background": "light"
     },
     "output_type": "display_data"
    },
    {
     "data": {
      "image/png": "[encoded data removed]",
      "text/plain": [
       "<Figure size 432x288 with 1 Axes>"
      ]
     },
     "metadata": {
      "needs_background": "light"
     },
     "output_type": "display_data"
    }
   ],
   "source": [
    "for feature in discrete_feature: #understanding impact of discrete values on taget\n",
    "    data = dataset.copy()\n",
    "    data.groupby(feature)[\"target\"].median().plot.bar()\n",
    "    plt.xlabel(feature)\n",
    "    plt.ylabel(\"target\")\n",
    "    plt.show()"
   ]
  },
  {
   "cell_type": "code",
   "execution_count": 8,
   "metadata": {},
   "outputs": [
    {
     "data": {
      "text/plain": [
       "['danceability',\n",
       " 'energy',\n",
       " 'loudness',\n",
       " 'speechiness',\n",
       " 'acousticness',\n",
       " 'instrumentalness',\n",
       " 'liveness',\n",
       " 'valence',\n",
       " 'tempo',\n",
       " 'duration_ms',\n",
       " 'chorus_hit',\n",
       " 'sections']"
      ]
     },
     "execution_count": 8,
     "metadata": {},
     "output_type": "execute_result"
    }
   ],
   "source": [
    "continuous_feature = [feature for feature in numerical_feature if feature not in discrete_feature]#extracting continuous features\n",
    "continuous_feature"
   ]
  },
  {
   "cell_type": "code",
   "execution_count": 9,
   "metadata": {},
   "outputs": [
    {
     "data": {
      "image/png": "[encoded data removed]",
      "text/plain": [
       "<Figure size 432x288 with 1 Axes>"
      ]
     },
     "metadata": {
      "needs_background": "light"
     },
     "output_type": "display_data"
    },
    {
     "data": {
      "image/png": "[encoded data removed]",
      "text/plain": [
       "<Figure size 432x288 with 1 Axes>"
      ]
     },
     "metadata": {
      "needs_background": "light"
     },
     "output_type": "display_data"
    },
    {
     "data": {
      "image/png": "[encoded data removed]",
      "text/plain": [
       "<Figure size 432x288 with 1 Axes>"
      ]
     },
     "metadata": {
      "needs_background": "light"
     },
     "output_type": "display_data"
    },
    {
     "data": {
      "image/png": "[encoded data removed]",
      "text/plain": [
       "<Figure size 432x288 with 1 Axes>"
      ]
     },
     "metadata": {
      "needs_background": "light"
     },
     "output_type": "display_data"
    },
    {
     "data": {
      "image/png": "[encoded data removed]",
      "text/plain": [
       "<Figure size 432x288 with 1 Axes>"
      ]
     },
     "metadata": {
      "needs_background": "light"
     },
     "output_type": "display_data"
    },
    {
     "data": {
      "image/png": "[encoded data removed]",
      "text/plain": [
       "<Figure size 432x288 with 1 Axes>"
      ]
     },
     "metadata": {
      "needs_background": "light"
     },
     "output_type": "display_data"
    },
    {
     "data": {
      "image/png": "[encoded data removed]",
      "text/plain": [
       "<Figure size 432x288 with 1 Axes>"
      ]
     },
     "metadata": {
      "needs_background": "light"
     },
     "output_type": "display_data"
    },
    {
     "data": {
      "image/png": "[encoded data removed]",
      "text/plain": [
       "<Figure size 432x288 with 1 Axes>"
      ]
     },
     "metadata": {
      "needs_background": "light"
     },
     "output_type": "display_data"
    },
    {
     "data": {
      "image/png": "[encoded data removed]",
      "text/plain": [
       "<Figure size 432x288 with 1 Axes>"
      ]
     },
     "metadata": {
      "needs_background": "light"
     },
     "output_type": "display_data"
    },
    {
     "data": {
      "image/png": "[encoded data removed]",
      "text/plain": [
       "<Figure size 432x288 with 1 Axes>"
      ]
     },
     "metadata": {
      "needs_background": "light"
     },
     "output_type": "display_data"
    },
    {
     "data": {
      "image/png": "[encoded data removed]",
      "text/plain": [
       "<Figure size 432x288 with 1 Axes>"
      ]
     },
     "metadata": {
      "needs_background": "light"
     },
     "output_type": "display_data"
    },
    {
     "data": {
      "image/png": "[encoded data removed]",
      "text/plain": [
       "<Figure size 432x288 with 1 Axes>"
      ]
     },
     "metadata": {
      "needs_background": "light"
     },
     "output_type": "display_data"
    }
   ],
   "source": [
    "for feature in continuous_feature: #plotting continuous features\n",
    "    data = dataset.copy()\n",
    "    data[feature].hist(bins=20)\n",
    "    plt.xlabel(feature)\n",
    "    plt.ylabel(\"count\")\n",
    "    plt.show()"
   ]
  },
  {
   "cell_type": "code",
   "execution_count": 10,
   "metadata": {},
   "outputs": [
    {
     "data": {
      "image/png": "[encoded data removed]",
      "text/plain": [
       "<Figure size 432x288 with 1 Axes>"
      ]
     },
     "metadata": {
      "needs_background": "light"
     },
     "output_type": "display_data"
    },
    {
     "data": {
      "image/png": "[encoded data removed]",
      "text/plain": [
       "<Figure size 432x288 with 1 Axes>"
      ]
     },
     "metadata": {
      "needs_background": "light"
     },
     "output_type": "display_data"
    },
    {
     "name": "stderr",
     "output_type": "stream",
     "text": [
      "/home/timelord/anaconda3/lib/python3.8/site-packages/pandas/core/series.py:679: RuntimeWarning: invalid value encountered in log\n",
      "  result = getattr(ufunc, method)(*inputs, **kwargs)\n"
     ]
    },
    {
     "data": {
      "image/png": "[encoded data removed]",
      "text/plain": [
       "<Figure size 432x288 with 1 Axes>"
      ]
     },
     "metadata": {
      "needs_background": "light"
     },
     "output_type": "display_data"
    },
    {
     "data": {
      "image/png": "[encoded data removed]",
      "text/plain": [
       "<Figure size 432x288 with 1 Axes>"
      ]
     },
     "metadata": {
      "needs_background": "light"
     },
     "output_type": "display_data"
    },
    {
     "data": {
      "image/png": "[encoded data removed]",
      "text/plain": [
       "<Figure size 432x288 with 1 Axes>"
      ]
     },
     "metadata": {
      "needs_background": "light"
     },
     "output_type": "display_data"
    },
    {
     "data": {
      "image/png": "[encoded data removed]",
      "text/plain": [
       "<Figure size 432x288 with 1 Axes>"
      ]
     },
     "metadata": {
      "needs_background": "light"
     },
     "output_type": "display_data"
    },
    {
     "data": {
      "image/png": "[encoded data removed]",
      "text/plain": [
       "<Figure size 432x288 with 1 Axes>"
      ]
     },
     "metadata": {
      "needs_background": "light"
     },
     "output_type": "display_data"
    },
    {
     "data": {
      "image/png": "[encoded data removed]",
      "text/plain": [
       "<Figure size 432x288 with 1 Axes>"
      ]
     },
     "metadata": {
      "needs_background": "light"
     },
     "output_type": "display_data"
    }
   ],
   "source": [
    "for feature in continuous_feature: #transforming skew features to log transform\n",
    "    if 0 in data[feature].unique():\n",
    "        pass\n",
    "    else:\n",
    "        data[feature] = np.log(data[feature])\n",
    "        data[feature].hist(bins=20)\n",
    "        plt.xlabel(feature)\n",
    "        plt.ylabel(\"counts\")\n",
    "        plt.show()"
   ]
  },
  {
   "cell_type": "code",
   "execution_count": 11,
   "metadata": {},
   "outputs": [
    {
     "data": {
      "image/png": "[encoded data removed]",
      "text/plain": [
       "<Figure size 432x288 with 1 Axes>"
      ]
     },
     "metadata": {
      "needs_background": "light"
     },
     "output_type": "display_data"
    },
    {
     "data": {
      "image/png": "[encoded data removed]",
      "text/plain": [
       "<Figure size 432x288 with 1 Axes>"
      ]
     },
     "metadata": {
      "needs_background": "light"
     },
     "output_type": "display_data"
    },
    {
     "name": "stderr",
     "output_type": "stream",
     "text": [
      "/home/timelord/anaconda3/lib/python3.8/site-packages/pandas/core/series.py:679: RuntimeWarning: invalid value encountered in log\n",
      "  result = getattr(ufunc, method)(*inputs, **kwargs)\n"
     ]
    },
    {
     "data": {
      "image/png": "[encoded data removed]",
      "text/plain": [
       "<Figure size 432x288 with 1 Axes>"
      ]
     },
     "metadata": {
      "needs_background": "light"
     },
     "output_type": "display_data"
    },
    {
     "data": {
      "image/png": "[encoded data removed]",
      "text/plain": [
       "<Figure size 432x288 with 1 Axes>"
      ]
     },
     "metadata": {
      "needs_background": "light"
     },
     "output_type": "display_data"
    },
    {
     "data": {
      "image/png": "[encoded data removed]",
      "text/plain": [
       "<Figure size 432x288 with 1 Axes>"
      ]
     },
     "metadata": {
      "needs_background": "light"
     },
     "output_type": "display_data"
    },
    {
     "data": {
      "image/png": "[encoded data removed]",
      "text/plain": [
       "<Figure size 432x288 with 1 Axes>"
      ]
     },
     "metadata": {
      "needs_background": "light"
     },
     "output_type": "display_data"
    },
    {
     "data": {
      "image/png": "[encoded data removed]",
      "text/plain": [
       "<Figure size 432x288 with 1 Axes>"
      ]
     },
     "metadata": {
      "needs_background": "light"
     },
     "output_type": "display_data"
    },
    {
     "data": {
      "image/png": "[encoded data removed]",
      "text/plain": [
       "<Figure size 432x288 with 1 Axes>"
      ]
     },
     "metadata": {
      "needs_background": "light"
     },
     "output_type": "display_data"
    }
   ],
   "source": [
    "for feature in continuous_feature: #checking outliers\n",
    "    data = dataset.copy()\n",
    "    if 0 in data[feature].unique():\n",
    "        pass\n",
    "    else:\n",
    "        data[feature] = np.log(data[feature])\n",
    "        data.boxplot(column=feature)\n",
    "        plt.ylabel(feature)\n",
    "        plt.title(feature)\n",
    "        plt.show()"
   ]
  },
  {
   "cell_type": "code",
   "execution_count": 12,
   "metadata": {},
   "outputs": [
    {
     "data": {
      "text/plain": [
       "['track', 'artist', 'uri']"
      ]
     },
     "execution_count": 12,
     "metadata": {},
     "output_type": "execute_result"
    }
   ],
   "source": [
    "categorical_features = [feature for feature in dataset.columns if dataset[feature].dtypes == \"O\"] #extracting categorical features\n",
    "categorical_features"
   ]
  },
  {
   "cell_type": "code",
   "execution_count": 13,
   "metadata": {},
   "outputs": [
    {
     "name": "stdout",
     "output_type": "stream",
     "text": [
      "The Feature is track and the no of categories are: 5311\n",
      "The Feature is artist and the no of categories are: 2476\n",
      "The Feature is uri and the no of categories are: 5506\n"
     ]
    }
   ],
   "source": [
    "for feature in categorical_features:\n",
    "    print(\"The Feature is {} and the no of categories are: {}\".format(feature,len(dataset[feature].unique())))"
   ]
  },
  {
   "cell_type": "markdown",
   "metadata": {},
   "source": [
    "## Feature Engineering"
   ]
  },
  {
   "cell_type": "code",
   "execution_count": 14,
   "metadata": {},
   "outputs": [
    {
     "data": {
      "text/html": [
       "<div>\n",
       "<style scoped>\n",
       "    .dataframe tbody tr th:only-of-type {\n",
       "        vertical-align: middle;\n",
       "    }\n",
       "\n",
       "    .dataframe tbody tr th {\n",
       "        vertical-align: top;\n",
       "    }\n",
       "\n",
       "    .dataframe thead th {\n",
       "        text-align: right;\n",
       "    }\n",
       "</style>\n",
       "<table border=\"1\" class=\"dataframe\">\n",
       "  <thead>\n",
       "    <tr style=\"text-align: right;\">\n",
       "      <th></th>\n",
       "      <th>danceability</th>\n",
       "      <th>energy</th>\n",
       "      <th>key</th>\n",
       "      <th>loudness</th>\n",
       "      <th>mode</th>\n",
       "      <th>speechiness</th>\n",
       "      <th>acousticness</th>\n",
       "      <th>instrumentalness</th>\n",
       "      <th>liveness</th>\n",
       "      <th>valence</th>\n",
       "      <th>tempo</th>\n",
       "      <th>duration_ms</th>\n",
       "      <th>time_signature</th>\n",
       "      <th>chorus_hit</th>\n",
       "      <th>sections</th>\n",
       "      <th>target</th>\n",
       "    </tr>\n",
       "  </thead>\n",
       "  <tbody>\n",
       "    <tr>\n",
       "      <th>danceability</th>\n",
       "      <td>1.000000</td>\n",
       "      <td>0.131832</td>\n",
       "      <td>0.022007</td>\n",
       "      <td>0.254667</td>\n",
       "      <td>-0.087036</td>\n",
       "      <td>0.206994</td>\n",
       "      <td>-0.218565</td>\n",
       "      <td>-0.337346</td>\n",
       "      <td>-0.097924</td>\n",
       "      <td>0.548994</td>\n",
       "      <td>-0.164141</td>\n",
       "      <td>-0.065589</td>\n",
       "      <td>0.178748</td>\n",
       "      <td>-0.035723</td>\n",
       "      <td>-0.077472</td>\n",
       "      <td>0.453966</td>\n",
       "    </tr>\n",
       "    <tr>\n",
       "      <th>energy</th>\n",
       "      <td>0.131832</td>\n",
       "      <td>1.000000</td>\n",
       "      <td>0.014851</td>\n",
       "      <td>0.759737</td>\n",
       "      <td>-0.024272</td>\n",
       "      <td>0.106341</td>\n",
       "      <td>-0.717006</td>\n",
       "      <td>-0.221905</td>\n",
       "      <td>0.173991</td>\n",
       "      <td>0.382065</td>\n",
       "      <td>0.168759</td>\n",
       "      <td>-0.097639</td>\n",
       "      <td>0.196475</td>\n",
       "      <td>-0.003553</td>\n",
       "      <td>-0.157240</td>\n",
       "      <td>0.219283</td>\n",
       "    </tr>\n",
       "    <tr>\n",
       "      <th>key</th>\n",
       "      <td>0.022007</td>\n",
       "      <td>0.014851</td>\n",
       "      <td>1.000000</td>\n",
       "      <td>0.001529</td>\n",
       "      <td>-0.168842</td>\n",
       "      <td>0.032672</td>\n",
       "      <td>-0.026502</td>\n",
       "      <td>-0.041967</td>\n",
       "      <td>-0.018231</td>\n",
       "      <td>0.012472</td>\n",
       "      <td>-0.031968</td>\n",
       "      <td>0.002333</td>\n",
       "      <td>-0.000061</td>\n",
       "      <td>0.020073</td>\n",
       "      <td>-0.003949</td>\n",
       "      <td>0.053454</td>\n",
       "    </tr>\n",
       "    <tr>\n",
       "      <th>loudness</th>\n",
       "      <td>0.254667</td>\n",
       "      <td>0.759737</td>\n",
       "      <td>0.001529</td>\n",
       "      <td>1.000000</td>\n",
       "      <td>0.007851</td>\n",
       "      <td>0.051483</td>\n",
       "      <td>-0.585624</td>\n",
       "      <td>-0.397282</td>\n",
       "      <td>0.080700</td>\n",
       "      <td>0.315454</td>\n",
       "      <td>0.119479</td>\n",
       "      <td>-0.127918</td>\n",
       "      <td>0.173517</td>\n",
       "      <td>-0.008320</td>\n",
       "      <td>-0.175665</td>\n",
       "      <td>0.334691</td>\n",
       "    </tr>\n",
       "    <tr>\n",
       "      <th>mode</th>\n",
       "      <td>-0.087036</td>\n",
       "      <td>-0.024272</td>\n",
       "      <td>-0.168842</td>\n",
       "      <td>0.007851</td>\n",
       "      <td>1.000000</td>\n",
       "      <td>-0.070268</td>\n",
       "      <td>0.041464</td>\n",
       "      <td>-0.043362</td>\n",
       "      <td>0.004788</td>\n",
       "      <td>-0.025817</td>\n",
       "      <td>0.020958</td>\n",
       "      <td>-0.084847</td>\n",
       "      <td>-0.016843</td>\n",
       "      <td>-0.010660</td>\n",
       "      <td>-0.075494</td>\n",
       "      <td>-0.018487</td>\n",
       "    </tr>\n",
       "    <tr>\n",
       "      <th>speechiness</th>\n",
       "      <td>0.206994</td>\n",
       "      <td>0.106341</td>\n",
       "      <td>0.032672</td>\n",
       "      <td>0.051483</td>\n",
       "      <td>-0.070268</td>\n",
       "      <td>1.000000</td>\n",
       "      <td>-0.094074</td>\n",
       "      <td>-0.098705</td>\n",
       "      <td>0.164986</td>\n",
       "      <td>0.075358</td>\n",
       "      <td>-0.017372</td>\n",
       "      <td>-0.041354</td>\n",
       "      <td>0.013750</td>\n",
       "      <td>0.002761</td>\n",
       "      <td>-0.055689</td>\n",
       "      <td>0.050704</td>\n",
       "    </tr>\n",
       "    <tr>\n",
       "      <th>acousticness</th>\n",
       "      <td>-0.218565</td>\n",
       "      <td>-0.717006</td>\n",
       "      <td>-0.026502</td>\n",
       "      <td>-0.585624</td>\n",
       "      <td>0.041464</td>\n",
       "      <td>-0.094074</td>\n",
       "      <td>1.000000</td>\n",
       "      <td>0.267370</td>\n",
       "      <td>-0.046882</td>\n",
       "      <td>-0.243543</td>\n",
       "      <td>-0.124337</td>\n",
       "      <td>0.018445</td>\n",
       "      <td>-0.177007</td>\n",
       "      <td>0.012448</td>\n",
       "      <td>0.082056</td>\n",
       "      <td>-0.374949</td>\n",
       "    </tr>\n",
       "    <tr>\n",
       "      <th>instrumentalness</th>\n",
       "      <td>-0.337346</td>\n",
       "      <td>-0.221905</td>\n",
       "      <td>-0.041967</td>\n",
       "      <td>-0.397282</td>\n",
       "      <td>-0.043362</td>\n",
       "      <td>-0.098705</td>\n",
       "      <td>0.267370</td>\n",
       "      <td>1.000000</td>\n",
       "      <td>-0.022999</td>\n",
       "      <td>-0.226985</td>\n",
       "      <td>0.002866</td>\n",
       "      <td>0.079972</td>\n",
       "      <td>-0.098224</td>\n",
       "      <td>0.064807</td>\n",
       "      <td>0.067846</td>\n",
       "      <td>-0.427337</td>\n",
       "    </tr>\n",
       "    <tr>\n",
       "      <th>liveness</th>\n",
       "      <td>-0.097924</td>\n",
       "      <td>0.173991</td>\n",
       "      <td>-0.018231</td>\n",
       "      <td>0.080700</td>\n",
       "      <td>0.004788</td>\n",
       "      <td>0.164986</td>\n",
       "      <td>-0.046882</td>\n",
       "      <td>-0.022999</td>\n",
       "      <td>1.000000</td>\n",
       "      <td>0.012929</td>\n",
       "      <td>0.022444</td>\n",
       "      <td>-0.013903</td>\n",
       "      <td>0.008246</td>\n",
       "      <td>0.073042</td>\n",
       "      <td>-0.048914</td>\n",
       "      <td>-0.102237</td>\n",
       "    </tr>\n",
       "    <tr>\n",
       "      <th>valence</th>\n",
       "      <td>0.548994</td>\n",
       "      <td>0.382065</td>\n",
       "      <td>0.012472</td>\n",
       "      <td>0.315454</td>\n",
       "      <td>-0.025817</td>\n",
       "      <td>0.075358</td>\n",
       "      <td>-0.243543</td>\n",
       "      <td>-0.226985</td>\n",
       "      <td>0.012929</td>\n",
       "      <td>1.000000</td>\n",
       "      <td>0.070293</td>\n",
       "      <td>-0.222331</td>\n",
       "      <td>0.168490</td>\n",
       "      <td>-0.032888</td>\n",
       "      <td>-0.198113</td>\n",
       "      <td>0.170499</td>\n",
       "    </tr>\n",
       "    <tr>\n",
       "      <th>tempo</th>\n",
       "      <td>-0.164141</td>\n",
       "      <td>0.168759</td>\n",
       "      <td>-0.031968</td>\n",
       "      <td>0.119479</td>\n",
       "      <td>0.020958</td>\n",
       "      <td>-0.017372</td>\n",
       "      <td>-0.124337</td>\n",
       "      <td>0.002866</td>\n",
       "      <td>0.022444</td>\n",
       "      <td>0.070293</td>\n",
       "      <td>1.000000</td>\n",
       "      <td>-0.072630</td>\n",
       "      <td>-0.019660</td>\n",
       "      <td>-0.056417</td>\n",
       "      <td>-0.006976</td>\n",
       "      <td>-0.035056</td>\n",
       "    </tr>\n",
       "    <tr>\n",
       "      <th>duration_ms</th>\n",
       "      <td>-0.065589</td>\n",
       "      <td>-0.097639</td>\n",
       "      <td>0.002333</td>\n",
       "      <td>-0.127918</td>\n",
       "      <td>-0.084847</td>\n",
       "      <td>-0.041354</td>\n",
       "      <td>0.018445</td>\n",
       "      <td>0.079972</td>\n",
       "      <td>-0.013903</td>\n",
       "      <td>-0.222331</td>\n",
       "      <td>-0.072630</td>\n",
       "      <td>1.000000</td>\n",
       "      <td>-0.005550</td>\n",
       "      <td>0.088797</td>\n",
       "      <td>0.867644</td>\n",
       "      <td>0.072873</td>\n",
       "    </tr>\n",
       "    <tr>\n",
       "      <th>time_signature</th>\n",
       "      <td>0.178748</td>\n",
       "      <td>0.196475</td>\n",
       "      <td>-0.000061</td>\n",
       "      <td>0.173517</td>\n",
       "      <td>-0.016843</td>\n",
       "      <td>0.013750</td>\n",
       "      <td>-0.177007</td>\n",
       "      <td>-0.098224</td>\n",
       "      <td>0.008246</td>\n",
       "      <td>0.168490</td>\n",
       "      <td>-0.019660</td>\n",
       "      <td>-0.005550</td>\n",
       "      <td>1.000000</td>\n",
       "      <td>-0.007156</td>\n",
       "      <td>-0.016274</td>\n",
       "      <td>0.114015</td>\n",
       "    </tr>\n",
       "    <tr>\n",
       "      <th>chorus_hit</th>\n",
       "      <td>-0.035723</td>\n",
       "      <td>-0.003553</td>\n",
       "      <td>0.020073</td>\n",
       "      <td>-0.008320</td>\n",
       "      <td>-0.010660</td>\n",
       "      <td>0.002761</td>\n",
       "      <td>0.012448</td>\n",
       "      <td>0.064807</td>\n",
       "      <td>0.073042</td>\n",
       "      <td>-0.032888</td>\n",
       "      <td>-0.056417</td>\n",
       "      <td>0.088797</td>\n",
       "      <td>-0.007156</td>\n",
       "      <td>1.000000</td>\n",
       "      <td>-0.130745</td>\n",
       "      <td>-0.049170</td>\n",
       "    </tr>\n",
       "    <tr>\n",
       "      <th>sections</th>\n",
       "      <td>-0.077472</td>\n",
       "      <td>-0.157240</td>\n",
       "      <td>-0.003949</td>\n",
       "      <td>-0.175665</td>\n",
       "      <td>-0.075494</td>\n",
       "      <td>-0.055689</td>\n",
       "      <td>0.082056</td>\n",
       "      <td>0.067846</td>\n",
       "      <td>-0.048914</td>\n",
       "      <td>-0.198113</td>\n",
       "      <td>-0.006976</td>\n",
       "      <td>0.867644</td>\n",
       "      <td>-0.016274</td>\n",
       "      <td>-0.130745</td>\n",
       "      <td>1.000000</td>\n",
       "      <td>0.044678</td>\n",
       "    </tr>\n",
       "    <tr>\n",
       "      <th>target</th>\n",
       "      <td>0.453966</td>\n",
       "      <td>0.219283</td>\n",
       "      <td>0.053454</td>\n",
       "      <td>0.334691</td>\n",
       "      <td>-0.018487</td>\n",
       "      <td>0.050704</td>\n",
       "      <td>-0.374949</td>\n",
       "      <td>-0.427337</td>\n",
       "      <td>-0.102237</td>\n",
       "      <td>0.170499</td>\n",
       "      <td>-0.035056</td>\n",
       "      <td>0.072873</td>\n",
       "      <td>0.114015</td>\n",
       "      <td>-0.049170</td>\n",
       "      <td>0.044678</td>\n",
       "      <td>1.000000</td>\n",
       "    </tr>\n",
       "  </tbody>\n",
       "</table>\n",
       "</div>"
      ],
      "text/plain": [
       "                  danceability    energy       key  loudness      mode  \\\n",
       "danceability          1.000000  0.131832  0.022007  0.254667 -0.087036   \n",
       "energy                0.131832  1.000000  0.014851  0.759737 -0.024272   \n",
       "key                   0.022007  0.014851  1.000000  0.001529 -0.168842   \n",
       "loudness              0.254667  0.759737  0.001529  1.000000  0.007851   \n",
       "mode                 -0.087036 -0.024272 -0.168842  0.007851  1.000000   \n",
       "speechiness           0.206994  0.106341  0.032672  0.051483 -0.070268   \n",
       "acousticness         -0.218565 -0.717006 -0.026502 -0.585624  0.041464   \n",
       "instrumentalness     -0.337346 -0.221905 -0.041967 -0.397282 -0.043362   \n",
       "liveness             -0.097924  0.173991 -0.018231  0.080700  0.004788   \n",
       "valence               0.548994  0.382065  0.012472  0.315454 -0.025817   \n",
       "tempo                -0.164141  0.168759 -0.031968  0.119479  0.020958   \n",
       "duration_ms          -0.065589 -0.097639  0.002333 -0.127918 -0.084847   \n",
       "time_signature        0.178748  0.196475 -0.000061  0.173517 -0.016843   \n",
       "chorus_hit           -0.035723 -0.003553  0.020073 -0.008320 -0.010660   \n",
       "sections             -0.077472 -0.157240 -0.003949 -0.175665 -0.075494   \n",
       "target                0.453966  0.219283  0.053454  0.334691 -0.018487   \n",
       "\n",
       "                  speechiness  acousticness  instrumentalness  liveness  \\\n",
       "danceability         0.206994     -0.218565         -0.337346 -0.097924   \n",
       "energy               0.106341     -0.717006         -0.221905  0.173991   \n",
       "key                  0.032672     -0.026502         -0.041967 -0.018231   \n",
       "loudness             0.051483     -0.585624         -0.397282  0.080700   \n",
       "mode                -0.070268      0.041464         -0.043362  0.004788   \n",
       "speechiness          1.000000     -0.094074         -0.098705  0.164986   \n",
       "acousticness        -0.094074      1.000000          0.267370 -0.046882   \n",
       "instrumentalness    -0.098705      0.267370          1.000000 -0.022999   \n",
       "liveness             0.164986     -0.046882         -0.022999  1.000000   \n",
       "valence              0.075358     -0.243543         -0.226985  0.012929   \n",
       "tempo               -0.017372     -0.124337          0.002866  0.022444   \n",
       "duration_ms         -0.041354      0.018445          0.079972 -0.013903   \n",
       "time_signature       0.013750     -0.177007         -0.098224  0.008246   \n",
       "chorus_hit           0.002761      0.012448          0.064807  0.073042   \n",
       "sections            -0.055689      0.082056          0.067846 -0.048914   \n",
       "target               0.050704     -0.374949         -0.427337 -0.102237   \n",
       "\n",
       "                   valence     tempo  duration_ms  time_signature  chorus_hit  \\\n",
       "danceability      0.548994 -0.164141    -0.065589        0.178748   -0.035723   \n",
       "energy            0.382065  0.168759    -0.097639        0.196475   -0.003553   \n",
       "key               0.012472 -0.031968     0.002333       -0.000061    0.020073   \n",
       "loudness          0.315454  0.119479    -0.127918        0.173517   -0.008320   \n",
       "mode             -0.025817  0.020958    -0.084847       -0.016843   -0.010660   \n",
       "speechiness       0.075358 -0.017372    -0.041354        0.013750    0.002761   \n",
       "acousticness     -0.243543 -0.124337     0.018445       -0.177007    0.012448   \n",
       "instrumentalness -0.226985  0.002866     0.079972       -0.098224    0.064807   \n",
       "liveness          0.012929  0.022444    -0.013903        0.008246    0.073042   \n",
       "valence           1.000000  0.070293    -0.222331        0.168490   -0.032888   \n",
       "tempo             0.070293  1.000000    -0.072630       -0.019660   -0.056417   \n",
       "duration_ms      -0.222331 -0.072630     1.000000       -0.005550    0.088797   \n",
       "time_signature    0.168490 -0.019660    -0.005550        1.000000   -0.007156   \n",
       "chorus_hit       -0.032888 -0.056417     0.088797       -0.007156    1.000000   \n",
       "sections         -0.198113 -0.006976     0.867644       -0.016274   -0.130745   \n",
       "target            0.170499 -0.035056     0.072873        0.114015   -0.049170   \n",
       "\n",
       "                  sections    target  \n",
       "danceability     -0.077472  0.453966  \n",
       "energy           -0.157240  0.219283  \n",
       "key              -0.003949  0.053454  \n",
       "loudness         -0.175665  0.334691  \n",
       "mode             -0.075494 -0.018487  \n",
       "speechiness      -0.055689  0.050704  \n",
       "acousticness      0.082056 -0.374949  \n",
       "instrumentalness  0.067846 -0.427337  \n",
       "liveness         -0.048914 -0.102237  \n",
       "valence          -0.198113  0.170499  \n",
       "tempo            -0.006976 -0.035056  \n",
       "duration_ms       0.867644  0.072873  \n",
       "time_signature   -0.016274  0.114015  \n",
       "chorus_hit       -0.130745 -0.049170  \n",
       "sections          1.000000  0.044678  \n",
       "target            0.044678  1.000000  "
      ]
     },
     "execution_count": 14,
     "metadata": {},
     "output_type": "execute_result"
    }
   ],
   "source": [
    "dataset.corr()"
   ]
  },
  {
   "cell_type": "code",
   "execution_count": 15,
   "metadata": {},
   "outputs": [
    {
     "data": {
      "text/plain": [
       "<matplotlib.axes._subplots.AxesSubplot at 0x7f9c7376a640>"
      ]
     },
     "execution_count": 15,
     "metadata": {},
     "output_type": "execute_result"
    },
    {
     "data": {
      "image/png": "[encoded data removed]",
      "text/plain": [
       "<Figure size 432x288 with 2 Axes>"
      ]
     },
     "metadata": {
      "needs_background": "light"
     },
     "output_type": "display_data"
    }
   ],
   "source": [
    "sns.heatmap(dataset.corr()) #correlation"
   ]
  },
  {
   "cell_type": "code",
   "execution_count": 16,
   "metadata": {},
   "outputs": [],
   "source": [
    "def correlation(dataset, threshold):#extracting highly correlated features \n",
    "    col_corr = set() # Set of all the names of deleted columns\n",
    "    corr_matrix = dataset.corr()\n",
    "    for i in range(len(corr_matrix.columns)):\n",
    "        for j in range(i):\n",
    "            if (corr_matrix.iloc[i, j] >= threshold):\n",
    "                colname = corr_matrix.columns[i] # getting the name of column\n",
    "                col_corr.add(colname)\n",
    "    return col_corr"
   ]
  },
  {
   "cell_type": "code",
   "execution_count": 17,
   "metadata": {},
   "outputs": [
    {
     "data": {
      "text/plain": [
       "{'loudness', 'sections'}"
      ]
     },
     "execution_count": 17,
     "metadata": {},
     "output_type": "execute_result"
    }
   ],
   "source": [
    "correlation_features = correlation(dataset,0.7)\n",
    "correlation_features"
   ]
  },
  {
   "cell_type": "code",
   "execution_count": 18,
   "metadata": {},
   "outputs": [
    {
     "data": {
      "image/png": "[encoded data removed]",
      "text/plain": [
       "<Figure size 432x288 with 1 Axes>"
      ]
     },
     "metadata": {
      "needs_background": "light"
     },
     "output_type": "display_data"
    },
    {
     "data": {
      "image/png": "[encoded data removed]",
      "text/plain": [
       "<Figure size 432x288 with 1 Axes>"
      ]
     },
     "metadata": {
      "needs_background": "light"
     },
     "output_type": "display_data"
    },
    {
     "name": "stderr",
     "output_type": "stream",
     "text": [
      "/home/timelord/anaconda3/lib/python3.8/site-packages/pandas/core/series.py:679: RuntimeWarning: invalid value encountered in log\n",
      "  result = getattr(ufunc, method)(*inputs, **kwargs)\n"
     ]
    },
    {
     "data": {
      "image/png": "[encoded data removed]",
      "text/plain": [
       "<Figure size 432x288 with 1 Axes>"
      ]
     },
     "metadata": {
      "needs_background": "light"
     },
     "output_type": "display_data"
    },
    {
     "data": {
      "image/png": "[encoded data removed]",
      "text/plain": [
       "<Figure size 432x288 with 1 Axes>"
      ]
     },
     "metadata": {
      "needs_background": "light"
     },
     "output_type": "display_data"
    },
    {
     "data": {
      "image/png": "[encoded data removed]",
      "text/plain": [
       "<Figure size 432x288 with 1 Axes>"
      ]
     },
     "metadata": {
      "needs_background": "light"
     },
     "output_type": "display_data"
    },
    {
     "data": {
      "image/png": "[encoded data removed]",
      "text/plain": [
       "<Figure size 432x288 with 1 Axes>"
      ]
     },
     "metadata": {
      "needs_background": "light"
     },
     "output_type": "display_data"
    },
    {
     "data": {
      "image/png": "[encoded data removed]",
      "text/plain": [
       "<Figure size 432x288 with 1 Axes>"
      ]
     },
     "metadata": {
      "needs_background": "light"
     },
     "output_type": "display_data"
    },
    {
     "data": {
      "image/png": "[encoded data removed]",
      "text/plain": [
       "<Figure size 432x288 with 1 Axes>"
      ]
     },
     "metadata": {
      "needs_background": "light"
     },
     "output_type": "display_data"
    }
   ],
   "source": [
    "for feature in continuous_feature:#handling skew data with log transform\n",
    "    if 0 in dataset[feature].unique():\n",
    "        pass\n",
    "    else:\n",
    "        dataset[feature] = np.log(dataset[feature])\n",
    "        dataset[feature].hist(bins=20)\n",
    "        plt.xlabel(feature)\n",
    "        plt.ylabel(\"counts\")\n",
    "        plt.show()"
   ]
  },
  {
   "cell_type": "code",
   "execution_count": 19,
   "metadata": {},
   "outputs": [],
   "source": [
    "dataset = dataset.drop([\"loudness\",\"sections\"],axis = 1) #dropping highly correlated features"
   ]
  },
  {
   "cell_type": "code",
   "execution_count": 20,
   "metadata": {},
   "outputs": [
    {
     "data": {
      "text/html": [
       "<div>\n",
       "<style scoped>\n",
       "    .dataframe tbody tr th:only-of-type {\n",
       "        vertical-align: middle;\n",
       "    }\n",
       "\n",
       "    .dataframe tbody tr th {\n",
       "        vertical-align: top;\n",
       "    }\n",
       "\n",
       "    .dataframe thead th {\n",
       "        text-align: right;\n",
       "    }\n",
       "</style>\n",
       "<table border=\"1\" class=\"dataframe\">\n",
       "  <thead>\n",
       "    <tr style=\"text-align: right;\">\n",
       "      <th></th>\n",
       "      <th>danceability</th>\n",
       "      <th>energy</th>\n",
       "      <th>key</th>\n",
       "      <th>mode</th>\n",
       "      <th>speechiness</th>\n",
       "      <th>acousticness</th>\n",
       "      <th>instrumentalness</th>\n",
       "      <th>liveness</th>\n",
       "      <th>valence</th>\n",
       "      <th>tempo</th>\n",
       "      <th>duration_ms</th>\n",
       "      <th>time_signature</th>\n",
       "      <th>chorus_hit</th>\n",
       "      <th>target</th>\n",
       "    </tr>\n",
       "  </thead>\n",
       "  <tbody>\n",
       "    <tr>\n",
       "      <th>count</th>\n",
       "      <td>5520.000000</td>\n",
       "      <td>5520.000000</td>\n",
       "      <td>5520.000000</td>\n",
       "      <td>5520.000000</td>\n",
       "      <td>5520.000000</td>\n",
       "      <td>5520.00000</td>\n",
       "      <td>5520.000000</td>\n",
       "      <td>5520.000000</td>\n",
       "      <td>5520.000000</td>\n",
       "      <td>5520.000000</td>\n",
       "      <td>5520.000000</td>\n",
       "      <td>5520.000000</td>\n",
       "      <td>5520.000000</td>\n",
       "      <td>5520.000000</td>\n",
       "    </tr>\n",
       "    <tr>\n",
       "      <th>mean</th>\n",
       "      <td>-0.635326</td>\n",
       "      <td>-0.679582</td>\n",
       "      <td>5.263043</td>\n",
       "      <td>0.669565</td>\n",
       "      <td>-2.911443</td>\n",
       "      <td>0.29122</td>\n",
       "      <td>0.159886</td>\n",
       "      <td>-1.910746</td>\n",
       "      <td>0.537685</td>\n",
       "      <td>4.747777</td>\n",
       "      <td>12.387354</td>\n",
       "      <td>3.922464</td>\n",
       "      <td>40.999358</td>\n",
       "      <td>0.500000</td>\n",
       "    </tr>\n",
       "    <tr>\n",
       "      <th>std</th>\n",
       "      <td>0.405425</td>\n",
       "      <td>0.775967</td>\n",
       "      <td>3.511379</td>\n",
       "      <td>0.470412</td>\n",
       "      <td>0.684079</td>\n",
       "      <td>0.32463</td>\n",
       "      <td>0.304407</td>\n",
       "      <td>0.731202</td>\n",
       "      <td>0.257688</td>\n",
       "      <td>0.244827</td>\n",
       "      <td>0.367284</td>\n",
       "      <td>0.352768</td>\n",
       "      <td>19.941630</td>\n",
       "      <td>0.500045</td>\n",
       "    </tr>\n",
       "    <tr>\n",
       "      <th>min</th>\n",
       "      <td>-2.854233</td>\n",
       "      <td>-7.937775</td>\n",
       "      <td>0.000000</td>\n",
       "      <td>0.000000</td>\n",
       "      <td>-3.816713</td>\n",
       "      <td>0.00000</td>\n",
       "      <td>0.000000</td>\n",
       "      <td>-4.342806</td>\n",
       "      <td>0.000000</td>\n",
       "      <td>3.541973</td>\n",
       "      <td>9.879861</td>\n",
       "      <td>1.000000</td>\n",
       "      <td>0.000000</td>\n",
       "      <td>0.000000</td>\n",
       "    </tr>\n",
       "    <tr>\n",
       "      <th>25%</th>\n",
       "      <td>-0.796288</td>\n",
       "      <td>-0.832409</td>\n",
       "      <td>2.000000</td>\n",
       "      <td>0.000000</td>\n",
       "      <td>-3.408222</td>\n",
       "      <td>0.01800</td>\n",
       "      <td>0.000000</td>\n",
       "      <td>-2.411563</td>\n",
       "      <td>0.330000</td>\n",
       "      <td>4.568734</td>\n",
       "      <td>12.219745</td>\n",
       "      <td>4.000000</td>\n",
       "      <td>28.065100</td>\n",
       "      <td>0.000000</td>\n",
       "    </tr>\n",
       "    <tr>\n",
       "      <th>50%</th>\n",
       "      <td>-0.534435</td>\n",
       "      <td>-0.454918</td>\n",
       "      <td>5.000000</td>\n",
       "      <td>1.000000</td>\n",
       "      <td>-3.141915</td>\n",
       "      <td>0.14000</td>\n",
       "      <td>0.000228</td>\n",
       "      <td>-2.063568</td>\n",
       "      <td>0.556000</td>\n",
       "      <td>4.744576</td>\n",
       "      <td>12.416009</td>\n",
       "      <td>4.000000</td>\n",
       "      <td>36.512680</td>\n",
       "      <td>0.500000</td>\n",
       "    </tr>\n",
       "    <tr>\n",
       "      <th>75%</th>\n",
       "      <td>-0.358105</td>\n",
       "      <td>-0.209487</td>\n",
       "      <td>8.000000</td>\n",
       "      <td>1.000000</td>\n",
       "      <td>-2.619696</td>\n",
       "      <td>0.52725</td>\n",
       "      <td>0.091375</td>\n",
       "      <td>-1.350927</td>\n",
       "      <td>0.751000</td>\n",
       "      <td>4.912567</td>\n",
       "      <td>12.577315</td>\n",
       "      <td>4.000000</td>\n",
       "      <td>48.628155</td>\n",
       "      <td>1.000000</td>\n",
       "    </tr>\n",
       "    <tr>\n",
       "      <th>max</th>\n",
       "      <td>-0.021224</td>\n",
       "      <td>-0.002002</td>\n",
       "      <td>11.000000</td>\n",
       "      <td>1.000000</td>\n",
       "      <td>-0.051293</td>\n",
       "      <td>0.99600</td>\n",
       "      <td>0.997000</td>\n",
       "      <td>-0.008032</td>\n",
       "      <td>0.996000</td>\n",
       "      <td>5.384234</td>\n",
       "      <td>14.353056</td>\n",
       "      <td>5.000000</td>\n",
       "      <td>235.060740</td>\n",
       "      <td>1.000000</td>\n",
       "    </tr>\n",
       "  </tbody>\n",
       "</table>\n",
       "</div>"
      ],
      "text/plain": [
       "       danceability       energy          key         mode  speechiness  \\\n",
       "count   5520.000000  5520.000000  5520.000000  5520.000000  5520.000000   \n",
       "mean      -0.635326    -0.679582     5.263043     0.669565    -2.911443   \n",
       "std        0.405425     0.775967     3.511379     0.470412     0.684079   \n",
       "min       -2.854233    -7.937775     0.000000     0.000000    -3.816713   \n",
       "25%       -0.796288    -0.832409     2.000000     0.000000    -3.408222   \n",
       "50%       -0.534435    -0.454918     5.000000     1.000000    -3.141915   \n",
       "75%       -0.358105    -0.209487     8.000000     1.000000    -2.619696   \n",
       "max       -0.021224    -0.002002    11.000000     1.000000    -0.051293   \n",
       "\n",
       "       acousticness  instrumentalness     liveness      valence        tempo  \\\n",
       "count    5520.00000       5520.000000  5520.000000  5520.000000  5520.000000   \n",
       "mean        0.29122          0.159886    -1.910746     0.537685     4.747777   \n",
       "std         0.32463          0.304407     0.731202     0.257688     0.244827   \n",
       "min         0.00000          0.000000    -4.342806     0.000000     3.541973   \n",
       "25%         0.01800          0.000000    -2.411563     0.330000     4.568734   \n",
       "50%         0.14000          0.000228    -2.063568     0.556000     4.744576   \n",
       "75%         0.52725          0.091375    -1.350927     0.751000     4.912567   \n",
       "max         0.99600          0.997000    -0.008032     0.996000     5.384234   \n",
       "\n",
       "       duration_ms  time_signature   chorus_hit       target  \n",
       "count  5520.000000     5520.000000  5520.000000  5520.000000  \n",
       "mean     12.387354        3.922464    40.999358     0.500000  \n",
       "std       0.367284        0.352768    19.941630     0.500045  \n",
       "min       9.879861        1.000000     0.000000     0.000000  \n",
       "25%      12.219745        4.000000    28.065100     0.000000  \n",
       "50%      12.416009        4.000000    36.512680     0.500000  \n",
       "75%      12.577315        4.000000    48.628155     1.000000  \n",
       "max      14.353056        5.000000   235.060740     1.000000  "
      ]
     },
     "execution_count": 20,
     "metadata": {},
     "output_type": "execute_result"
    }
   ],
   "source": [
    "dataset.describe()"
   ]
  },
  {
   "cell_type": "code",
   "execution_count": 21,
   "metadata": {},
   "outputs": [
    {
     "data": {
      "text/plain": [
       "MinMaxScaler()"
      ]
     },
     "execution_count": 21,
     "metadata": {},
     "output_type": "execute_result"
    }
   ],
   "source": [
    "feature = [feature for feature in dataset.columns if feature not in [\"target\",\"artist\",\"uri\",\"track\"]]\n",
    "from sklearn.preprocessing import MinMaxScaler\n",
    "scaler = MinMaxScaler()\n",
    "scaler.fit(dataset[feature])"
   ]
  },
  {
   "cell_type": "code",
   "execution_count": 22,
   "metadata": {},
   "outputs": [],
   "source": [
    "x = scaler.transform(dataset[feature]) #scaling data"
   ]
  },
  {
   "cell_type": "code",
   "execution_count": 23,
   "metadata": {},
   "outputs": [
    {
     "data": {
      "text/html": [
       "<div>\n",
       "<style scoped>\n",
       "    .dataframe tbody tr th:only-of-type {\n",
       "        vertical-align: middle;\n",
       "    }\n",
       "\n",
       "    .dataframe tbody tr th {\n",
       "        vertical-align: top;\n",
       "    }\n",
       "\n",
       "    .dataframe thead th {\n",
       "        text-align: right;\n",
       "    }\n",
       "</style>\n",
       "<table border=\"1\" class=\"dataframe\">\n",
       "  <thead>\n",
       "    <tr style=\"text-align: right;\">\n",
       "      <th></th>\n",
       "      <th>track</th>\n",
       "      <th>artist</th>\n",
       "      <th>uri</th>\n",
       "      <th>danceability</th>\n",
       "      <th>energy</th>\n",
       "      <th>key</th>\n",
       "      <th>mode</th>\n",
       "      <th>speechiness</th>\n",
       "      <th>acousticness</th>\n",
       "      <th>instrumentalness</th>\n",
       "      <th>liveness</th>\n",
       "      <th>valence</th>\n",
       "      <th>tempo</th>\n",
       "      <th>duration_ms</th>\n",
       "      <th>time_signature</th>\n",
       "      <th>chorus_hit</th>\n",
       "      <th>target</th>\n",
       "    </tr>\n",
       "  </thead>\n",
       "  <tbody>\n",
       "    <tr>\n",
       "      <th>0</th>\n",
       "      <td>Misty Roses</td>\n",
       "      <td>Astrud Gilberto</td>\n",
       "      <td>spotify:track:50RBM1j1Dw7WYmsGsWg9Tm</td>\n",
       "      <td>-0.640555</td>\n",
       "      <td>-1.152013</td>\n",
       "      <td>1</td>\n",
       "      <td>1</td>\n",
       "      <td>-3.473768</td>\n",
       "      <td>0.693000</td>\n",
       "      <td>0.00699</td>\n",
       "      <td>-1.783791</td>\n",
       "      <td>0.543</td>\n",
       "      <td>4.755408</td>\n",
       "      <td>11.975653</td>\n",
       "      <td>4</td>\n",
       "      <td>53.89523</td>\n",
       "      <td>0</td>\n",
       "    </tr>\n",
       "    <tr>\n",
       "      <th>1</th>\n",
       "      <td>Never Ever</td>\n",
       "      <td>All Saints</td>\n",
       "      <td>spotify:track:5FTz9qQ94PyUHETyAyfYZN</td>\n",
       "      <td>-0.303811</td>\n",
       "      <td>-0.614336</td>\n",
       "      <td>1</td>\n",
       "      <td>1</td>\n",
       "      <td>-3.470547</td>\n",
       "      <td>0.559000</td>\n",
       "      <td>0.00000</td>\n",
       "      <td>-3.011862</td>\n",
       "      <td>0.309</td>\n",
       "      <td>4.899234</td>\n",
       "      <td>12.867659</td>\n",
       "      <td>4</td>\n",
       "      <td>32.16853</td>\n",
       "      <td>1</td>\n",
       "    </tr>\n",
       "    <tr>\n",
       "      <th>2</th>\n",
       "      <td>Soul Sermon</td>\n",
       "      <td>Gregg Karukas</td>\n",
       "      <td>spotify:track:6m24oe3lk1UMxq9zq4iPFi</td>\n",
       "      <td>-0.306525</td>\n",
       "      <td>-0.869884</td>\n",
       "      <td>0</td>\n",
       "      <td>1</td>\n",
       "      <td>-3.506558</td>\n",
       "      <td>0.693000</td>\n",
       "      <td>0.49500</td>\n",
       "      <td>-2.514541</td>\n",
       "      <td>0.265</td>\n",
       "      <td>4.543103</td>\n",
       "      <td>12.376941</td>\n",
       "      <td>4</td>\n",
       "      <td>42.05369</td>\n",
       "      <td>0</td>\n",
       "    </tr>\n",
       "    <tr>\n",
       "      <th>3</th>\n",
       "      <td>Clarinet Marmalade - Live</td>\n",
       "      <td>Alton Purnell</td>\n",
       "      <td>spotify:track:5FOXuiLI6knVtgMUjWKj6x</td>\n",
       "      <td>-0.570930</td>\n",
       "      <td>-0.520876</td>\n",
       "      <td>5</td>\n",
       "      <td>1</td>\n",
       "      <td>-2.739541</td>\n",
       "      <td>0.655000</td>\n",
       "      <td>0.92600</td>\n",
       "      <td>-0.393043</td>\n",
       "      <td>0.763</td>\n",
       "      <td>4.738118</td>\n",
       "      <td>12.837166</td>\n",
       "      <td>4</td>\n",
       "      <td>80.99693</td>\n",
       "      <td>0</td>\n",
       "    </tr>\n",
       "    <tr>\n",
       "      <th>4</th>\n",
       "      <td>До смерті і довше - Drum &amp; Base and Rock Remix</td>\n",
       "      <td>Skryabin</td>\n",
       "      <td>spotify:track:6CxyIPTqSPvAPXfrIZczs4</td>\n",
       "      <td>-0.667479</td>\n",
       "      <td>-0.274437</td>\n",
       "      <td>4</td>\n",
       "      <td>1</td>\n",
       "      <td>-3.338223</td>\n",
       "      <td>0.000017</td>\n",
       "      <td>0.00339</td>\n",
       "      <td>-1.877317</td>\n",
       "      <td>0.961</td>\n",
       "      <td>5.031522</td>\n",
       "      <td>12.973058</td>\n",
       "      <td>4</td>\n",
       "      <td>25.57331</td>\n",
       "      <td>0</td>\n",
       "    </tr>\n",
       "  </tbody>\n",
       "</table>\n",
       "</div>"
      ],
      "text/plain": [
       "                                            track           artist  \\\n",
       "0                                     Misty Roses  Astrud Gilberto   \n",
       "1                                      Never Ever       All Saints   \n",
       "2                                     Soul Sermon    Gregg Karukas   \n",
       "3                       Clarinet Marmalade - Live    Alton Purnell   \n",
       "4  До смерті і довше - Drum & Base and Rock Remix         Skryabin   \n",
       "\n",
       "                                    uri  danceability    energy  key  mode  \\\n",
       "0  spotify:track:50RBM1j1Dw7WYmsGsWg9Tm     -0.640555 -1.152013    1     1   \n",
       "1  spotify:track:5FTz9qQ94PyUHETyAyfYZN     -0.303811 -0.614336    1     1   \n",
       "2  spotify:track:6m24oe3lk1UMxq9zq4iPFi     -0.306525 -0.869884    0     1   \n",
       "3  spotify:track:5FOXuiLI6knVtgMUjWKj6x     -0.570930 -0.520876    5     1   \n",
       "4  spotify:track:6CxyIPTqSPvAPXfrIZczs4     -0.667479 -0.274437    4     1   \n",
       "\n",
       "   speechiness  acousticness  instrumentalness  liveness  valence     tempo  \\\n",
       "0    -3.473768      0.693000           0.00699 -1.783791    0.543  4.755408   \n",
       "1    -3.470547      0.559000           0.00000 -3.011862    0.309  4.899234   \n",
       "2    -3.506558      0.693000           0.49500 -2.514541    0.265  4.543103   \n",
       "3    -2.739541      0.655000           0.92600 -0.393043    0.763  4.738118   \n",
       "4    -3.338223      0.000017           0.00339 -1.877317    0.961  5.031522   \n",
       "\n",
       "   duration_ms  time_signature  chorus_hit  target  \n",
       "0    11.975653               4    53.89523       0  \n",
       "1    12.867659               4    32.16853       1  \n",
       "2    12.376941               4    42.05369       0  \n",
       "3    12.837166               4    80.99693       0  \n",
       "4    12.973058               4    25.57331       0  "
      ]
     },
     "execution_count": 23,
     "metadata": {},
     "output_type": "execute_result"
    }
   ],
   "source": [
    "dataset.head()"
   ]
  },
  {
   "cell_type": "code",
   "execution_count": 24,
   "metadata": {},
   "outputs": [],
   "source": [
    "data = pd.concat([dataset[[\"target\",\"artist\",\"uri\",\"track\"]].reset_index(drop= True),pd.DataFrame(scaler.transform(dataset[feature]),columns = feature)],axis=1)"
   ]
  },
  {
   "cell_type": "code",
   "execution_count": 25,
   "metadata": {},
   "outputs": [
    {
     "data": {
      "text/html": [
       "<div>\n",
       "<style scoped>\n",
       "    .dataframe tbody tr th:only-of-type {\n",
       "        vertical-align: middle;\n",
       "    }\n",
       "\n",
       "    .dataframe tbody tr th {\n",
       "        vertical-align: top;\n",
       "    }\n",
       "\n",
       "    .dataframe thead th {\n",
       "        text-align: right;\n",
       "    }\n",
       "</style>\n",
       "<table border=\"1\" class=\"dataframe\">\n",
       "  <thead>\n",
       "    <tr style=\"text-align: right;\">\n",
       "      <th></th>\n",
       "      <th>target</th>\n",
       "      <th>artist</th>\n",
       "      <th>uri</th>\n",
       "      <th>track</th>\n",
       "      <th>danceability</th>\n",
       "      <th>energy</th>\n",
       "      <th>key</th>\n",
       "      <th>mode</th>\n",
       "      <th>speechiness</th>\n",
       "      <th>acousticness</th>\n",
       "      <th>instrumentalness</th>\n",
       "      <th>liveness</th>\n",
       "      <th>valence</th>\n",
       "      <th>tempo</th>\n",
       "      <th>duration_ms</th>\n",
       "      <th>time_signature</th>\n",
       "      <th>chorus_hit</th>\n",
       "    </tr>\n",
       "  </thead>\n",
       "  <tbody>\n",
       "    <tr>\n",
       "      <th>0</th>\n",
       "      <td>0</td>\n",
       "      <td>Astrud Gilberto</td>\n",
       "      <td>spotify:track:50RBM1j1Dw7WYmsGsWg9Tm</td>\n",
       "      <td>Misty Roses</td>\n",
       "      <td>0.781388</td>\n",
       "      <td>0.855085</td>\n",
       "      <td>0.090909</td>\n",
       "      <td>1.0</td>\n",
       "      <td>0.091077</td>\n",
       "      <td>0.695783</td>\n",
       "      <td>0.007011</td>\n",
       "      <td>0.590346</td>\n",
       "      <td>0.545181</td>\n",
       "      <td>0.658666</td>\n",
       "      <td>0.468522</td>\n",
       "      <td>0.75</td>\n",
       "      <td>0.229282</td>\n",
       "    </tr>\n",
       "    <tr>\n",
       "      <th>1</th>\n",
       "      <td>1</td>\n",
       "      <td>All Saints</td>\n",
       "      <td>spotify:track:5FTz9qQ94PyUHETyAyfYZN</td>\n",
       "      <td>Never Ever</td>\n",
       "      <td>0.900252</td>\n",
       "      <td>0.922839</td>\n",
       "      <td>0.090909</td>\n",
       "      <td>1.0</td>\n",
       "      <td>0.091933</td>\n",
       "      <td>0.561245</td>\n",
       "      <td>0.000000</td>\n",
       "      <td>0.307039</td>\n",
       "      <td>0.310241</td>\n",
       "      <td>0.736737</td>\n",
       "      <td>0.667934</td>\n",
       "      <td>0.75</td>\n",
       "      <td>0.136852</td>\n",
       "    </tr>\n",
       "    <tr>\n",
       "      <th>2</th>\n",
       "      <td>0</td>\n",
       "      <td>Gregg Karukas</td>\n",
       "      <td>spotify:track:6m24oe3lk1UMxq9zq4iPFi</td>\n",
       "      <td>Soul Sermon</td>\n",
       "      <td>0.899294</td>\n",
       "      <td>0.890637</td>\n",
       "      <td>0.000000</td>\n",
       "      <td>1.0</td>\n",
       "      <td>0.082369</td>\n",
       "      <td>0.695783</td>\n",
       "      <td>0.496489</td>\n",
       "      <td>0.421767</td>\n",
       "      <td>0.266064</td>\n",
       "      <td>0.543425</td>\n",
       "      <td>0.558232</td>\n",
       "      <td>0.75</td>\n",
       "      <td>0.178906</td>\n",
       "    </tr>\n",
       "    <tr>\n",
       "      <th>3</th>\n",
       "      <td>0</td>\n",
       "      <td>Alton Purnell</td>\n",
       "      <td>spotify:track:5FOXuiLI6knVtgMUjWKj6x</td>\n",
       "      <td>Clarinet Marmalade - Live</td>\n",
       "      <td>0.805964</td>\n",
       "      <td>0.934616</td>\n",
       "      <td>0.454545</td>\n",
       "      <td>1.0</td>\n",
       "      <td>0.286070</td>\n",
       "      <td>0.657631</td>\n",
       "      <td>0.928786</td>\n",
       "      <td>0.911181</td>\n",
       "      <td>0.766064</td>\n",
       "      <td>0.649281</td>\n",
       "      <td>0.661117</td>\n",
       "      <td>0.75</td>\n",
       "      <td>0.344579</td>\n",
       "    </tr>\n",
       "    <tr>\n",
       "      <th>4</th>\n",
       "      <td>0</td>\n",
       "      <td>Skryabin</td>\n",
       "      <td>spotify:track:6CxyIPTqSPvAPXfrIZczs4</td>\n",
       "      <td>До смерті і довше - Drum &amp; Base and Rock Remix</td>\n",
       "      <td>0.771884</td>\n",
       "      <td>0.965670</td>\n",
       "      <td>0.363636</td>\n",
       "      <td>1.0</td>\n",
       "      <td>0.127075</td>\n",
       "      <td>0.000017</td>\n",
       "      <td>0.003400</td>\n",
       "      <td>0.568770</td>\n",
       "      <td>0.964859</td>\n",
       "      <td>0.808544</td>\n",
       "      <td>0.691496</td>\n",
       "      <td>0.75</td>\n",
       "      <td>0.108794</td>\n",
       "    </tr>\n",
       "  </tbody>\n",
       "</table>\n",
       "</div>"
      ],
      "text/plain": [
       "   target           artist                                   uri  \\\n",
       "0       0  Astrud Gilberto  spotify:track:50RBM1j1Dw7WYmsGsWg9Tm   \n",
       "1       1       All Saints  spotify:track:5FTz9qQ94PyUHETyAyfYZN   \n",
       "2       0    Gregg Karukas  spotify:track:6m24oe3lk1UMxq9zq4iPFi   \n",
       "3       0    Alton Purnell  spotify:track:5FOXuiLI6knVtgMUjWKj6x   \n",
       "4       0         Skryabin  spotify:track:6CxyIPTqSPvAPXfrIZczs4   \n",
       "\n",
       "                                            track  danceability    energy  \\\n",
       "0                                     Misty Roses      0.781388  0.855085   \n",
       "1                                      Never Ever      0.900252  0.922839   \n",
       "2                                     Soul Sermon      0.899294  0.890637   \n",
       "3                       Clarinet Marmalade - Live      0.805964  0.934616   \n",
       "4  До смерті і довше - Drum & Base and Rock Remix      0.771884  0.965670   \n",
       "\n",
       "        key  mode  speechiness  acousticness  instrumentalness  liveness  \\\n",
       "0  0.090909   1.0     0.091077      0.695783          0.007011  0.590346   \n",
       "1  0.090909   1.0     0.091933      0.561245          0.000000  0.307039   \n",
       "2  0.000000   1.0     0.082369      0.695783          0.496489  0.421767   \n",
       "3  0.454545   1.0     0.286070      0.657631          0.928786  0.911181   \n",
       "4  0.363636   1.0     0.127075      0.000017          0.003400  0.568770   \n",
       "\n",
       "    valence     tempo  duration_ms  time_signature  chorus_hit  \n",
       "0  0.545181  0.658666     0.468522            0.75    0.229282  \n",
       "1  0.310241  0.736737     0.667934            0.75    0.136852  \n",
       "2  0.266064  0.543425     0.558232            0.75    0.178906  \n",
       "3  0.766064  0.649281     0.661117            0.75    0.344579  \n",
       "4  0.964859  0.808544     0.691496            0.75    0.108794  "
      ]
     },
     "execution_count": 25,
     "metadata": {},
     "output_type": "execute_result"
    }
   ],
   "source": [
    "data.head()"
   ]
  },
  {
   "cell_type": "code",
   "execution_count": 26,
   "metadata": {},
   "outputs": [],
   "source": [
    "data.drop([\"artist\",\"uri\",\"track\"],axis=1,inplace=True) #dropping useless features"
   ]
  },
  {
   "cell_type": "code",
   "execution_count": 27,
   "metadata": {},
   "outputs": [
    {
     "data": {
      "text/html": [
       "<div>\n",
       "<style scoped>\n",
       "    .dataframe tbody tr th:only-of-type {\n",
       "        vertical-align: middle;\n",
       "    }\n",
       "\n",
       "    .dataframe tbody tr th {\n",
       "        vertical-align: top;\n",
       "    }\n",
       "\n",
       "    .dataframe thead th {\n",
       "        text-align: right;\n",
       "    }\n",
       "</style>\n",
       "<table border=\"1\" class=\"dataframe\">\n",
       "  <thead>\n",
       "    <tr style=\"text-align: right;\">\n",
       "      <th></th>\n",
       "      <th>target</th>\n",
       "      <th>danceability</th>\n",
       "      <th>energy</th>\n",
       "      <th>key</th>\n",
       "      <th>mode</th>\n",
       "      <th>speechiness</th>\n",
       "      <th>acousticness</th>\n",
       "      <th>instrumentalness</th>\n",
       "      <th>liveness</th>\n",
       "      <th>valence</th>\n",
       "      <th>tempo</th>\n",
       "      <th>duration_ms</th>\n",
       "      <th>time_signature</th>\n",
       "      <th>chorus_hit</th>\n",
       "    </tr>\n",
       "  </thead>\n",
       "  <tbody>\n",
       "    <tr>\n",
       "      <th>0</th>\n",
       "      <td>0</td>\n",
       "      <td>0.781388</td>\n",
       "      <td>0.855085</td>\n",
       "      <td>0.090909</td>\n",
       "      <td>1.0</td>\n",
       "      <td>0.091077</td>\n",
       "      <td>0.695783</td>\n",
       "      <td>0.007011</td>\n",
       "      <td>0.590346</td>\n",
       "      <td>0.545181</td>\n",
       "      <td>0.658666</td>\n",
       "      <td>0.468522</td>\n",
       "      <td>0.75</td>\n",
       "      <td>0.229282</td>\n",
       "    </tr>\n",
       "    <tr>\n",
       "      <th>1</th>\n",
       "      <td>1</td>\n",
       "      <td>0.900252</td>\n",
       "      <td>0.922839</td>\n",
       "      <td>0.090909</td>\n",
       "      <td>1.0</td>\n",
       "      <td>0.091933</td>\n",
       "      <td>0.561245</td>\n",
       "      <td>0.000000</td>\n",
       "      <td>0.307039</td>\n",
       "      <td>0.310241</td>\n",
       "      <td>0.736737</td>\n",
       "      <td>0.667934</td>\n",
       "      <td>0.75</td>\n",
       "      <td>0.136852</td>\n",
       "    </tr>\n",
       "    <tr>\n",
       "      <th>2</th>\n",
       "      <td>0</td>\n",
       "      <td>0.899294</td>\n",
       "      <td>0.890637</td>\n",
       "      <td>0.000000</td>\n",
       "      <td>1.0</td>\n",
       "      <td>0.082369</td>\n",
       "      <td>0.695783</td>\n",
       "      <td>0.496489</td>\n",
       "      <td>0.421767</td>\n",
       "      <td>0.266064</td>\n",
       "      <td>0.543425</td>\n",
       "      <td>0.558232</td>\n",
       "      <td>0.75</td>\n",
       "      <td>0.178906</td>\n",
       "    </tr>\n",
       "    <tr>\n",
       "      <th>3</th>\n",
       "      <td>0</td>\n",
       "      <td>0.805964</td>\n",
       "      <td>0.934616</td>\n",
       "      <td>0.454545</td>\n",
       "      <td>1.0</td>\n",
       "      <td>0.286070</td>\n",
       "      <td>0.657631</td>\n",
       "      <td>0.928786</td>\n",
       "      <td>0.911181</td>\n",
       "      <td>0.766064</td>\n",
       "      <td>0.649281</td>\n",
       "      <td>0.661117</td>\n",
       "      <td>0.75</td>\n",
       "      <td>0.344579</td>\n",
       "    </tr>\n",
       "    <tr>\n",
       "      <th>4</th>\n",
       "      <td>0</td>\n",
       "      <td>0.771884</td>\n",
       "      <td>0.965670</td>\n",
       "      <td>0.363636</td>\n",
       "      <td>1.0</td>\n",
       "      <td>0.127075</td>\n",
       "      <td>0.000017</td>\n",
       "      <td>0.003400</td>\n",
       "      <td>0.568770</td>\n",
       "      <td>0.964859</td>\n",
       "      <td>0.808544</td>\n",
       "      <td>0.691496</td>\n",
       "      <td>0.75</td>\n",
       "      <td>0.108794</td>\n",
       "    </tr>\n",
       "  </tbody>\n",
       "</table>\n",
       "</div>"
      ],
      "text/plain": [
       "   target  danceability    energy       key  mode  speechiness  acousticness  \\\n",
       "0       0      0.781388  0.855085  0.090909   1.0     0.091077      0.695783   \n",
       "1       1      0.900252  0.922839  0.090909   1.0     0.091933      0.561245   \n",
       "2       0      0.899294  0.890637  0.000000   1.0     0.082369      0.695783   \n",
       "3       0      0.805964  0.934616  0.454545   1.0     0.286070      0.657631   \n",
       "4       0      0.771884  0.965670  0.363636   1.0     0.127075      0.000017   \n",
       "\n",
       "   instrumentalness  liveness   valence     tempo  duration_ms  \\\n",
       "0          0.007011  0.590346  0.545181  0.658666     0.468522   \n",
       "1          0.000000  0.307039  0.310241  0.736737     0.667934   \n",
       "2          0.496489  0.421767  0.266064  0.543425     0.558232   \n",
       "3          0.928786  0.911181  0.766064  0.649281     0.661117   \n",
       "4          0.003400  0.568770  0.964859  0.808544     0.691496   \n",
       "\n",
       "   time_signature  chorus_hit  \n",
       "0            0.75    0.229282  \n",
       "1            0.75    0.136852  \n",
       "2            0.75    0.178906  \n",
       "3            0.75    0.344579  \n",
       "4            0.75    0.108794  "
      ]
     },
     "execution_count": 27,
     "metadata": {},
     "output_type": "execute_result"
    }
   ],
   "source": [
    "data.head()"
   ]
  },
  {
   "cell_type": "markdown",
   "metadata": {},
   "source": [
    "## Selecting Threshold for Classification"
   ]
  },
  {
   "cell_type": "code",
   "execution_count": 28,
   "metadata": {},
   "outputs": [
    {
     "data": {
      "text/html": [
       "<div>\n",
       "<style scoped>\n",
       "    .dataframe tbody tr th:only-of-type {\n",
       "        vertical-align: middle;\n",
       "    }\n",
       "\n",
       "    .dataframe tbody tr th {\n",
       "        vertical-align: top;\n",
       "    }\n",
       "\n",
       "    .dataframe thead th {\n",
       "        text-align: right;\n",
       "    }\n",
       "</style>\n",
       "<table border=\"1\" class=\"dataframe\">\n",
       "  <thead>\n",
       "    <tr style=\"text-align: right;\">\n",
       "      <th></th>\n",
       "      <th>target</th>\n",
       "    </tr>\n",
       "  </thead>\n",
       "  <tbody>\n",
       "    <tr>\n",
       "      <th>0</th>\n",
       "      <td>0</td>\n",
       "    </tr>\n",
       "    <tr>\n",
       "      <th>1</th>\n",
       "      <td>1</td>\n",
       "    </tr>\n",
       "    <tr>\n",
       "      <th>2</th>\n",
       "      <td>0</td>\n",
       "    </tr>\n",
       "    <tr>\n",
       "      <th>3</th>\n",
       "      <td>0</td>\n",
       "    </tr>\n",
       "    <tr>\n",
       "      <th>4</th>\n",
       "      <td>0</td>\n",
       "    </tr>\n",
       "    <tr>\n",
       "      <th>...</th>\n",
       "      <td>...</td>\n",
       "    </tr>\n",
       "    <tr>\n",
       "      <th>5515</th>\n",
       "      <td>0</td>\n",
       "    </tr>\n",
       "    <tr>\n",
       "      <th>5516</th>\n",
       "      <td>0</td>\n",
       "    </tr>\n",
       "    <tr>\n",
       "      <th>5517</th>\n",
       "      <td>1</td>\n",
       "    </tr>\n",
       "    <tr>\n",
       "      <th>5518</th>\n",
       "      <td>0</td>\n",
       "    </tr>\n",
       "    <tr>\n",
       "      <th>5519</th>\n",
       "      <td>1</td>\n",
       "    </tr>\n",
       "  </tbody>\n",
       "</table>\n",
       "<p>5520 rows × 1 columns</p>\n",
       "</div>"
      ],
      "text/plain": [
       "      target\n",
       "0          0\n",
       "1          1\n",
       "2          0\n",
       "3          0\n",
       "4          0\n",
       "...      ...\n",
       "5515       0\n",
       "5516       0\n",
       "5517       1\n",
       "5518       0\n",
       "5519       1\n",
       "\n",
       "[5520 rows x 1 columns]"
      ]
     },
     "execution_count": 28,
     "metadata": {},
     "output_type": "execute_result"
    }
   ],
   "source": [
    "X = data.iloc[:,1:]\n",
    "Y = data.iloc[:,[0]]\n",
    "Y"
   ]
  },
  {
   "cell_type": "code",
   "execution_count": 29,
   "metadata": {},
   "outputs": [],
   "source": [
    "from sklearn.model_selection import train_test_split #train-test split\n",
    "x_train,x_test,y_train,y_test = train_test_split(X,Y,test_size=0.2,random_state=30)"
   ]
  },
  {
   "cell_type": "code",
   "execution_count": 30,
   "metadata": {},
   "outputs": [],
   "source": [
    "from sklearn.datasets import make_classification\n",
    "from sklearn.metrics import roc_auc_score\n",
    "from sklearn.metrics import roc_auc_score"
   ]
  },
  {
   "cell_type": "code",
   "execution_count": 31,
   "metadata": {},
   "outputs": [
    {
     "name": "stdout",
     "output_type": "stream",
     "text": [
      "roc train score : 0.8780122369385377\n",
      "roc test score : 0.9055711092658175\n"
     ]
    },
    {
     "name": "stderr",
     "output_type": "stream",
     "text": [
      "/home/timelord/anaconda3/lib/python3.8/site-packages/sklearn/utils/validation.py:73: DataConversionWarning: A column-vector y was passed when a 1d array was expected. Please change the shape of y to (n_samples, ), for example using ravel().\n",
      "  return f(**kwargs)\n"
     ]
    }
   ],
   "source": [
    "from sklearn.linear_model import LogisticRegression \n",
    "lr = LogisticRegression(solver='liblinear')\n",
    "lr.fit(x_train,y_train)\n",
    "ytrain_pred = lr.predict_proba(x_train)\n",
    "ytest_pred = lr.predict_proba(x_test)\n",
    "print(\"roc train score :\",roc_auc_score(y_train,ytrain_pred[:,1]))\n",
    "print(\"roc test score :\",roc_auc_score(y_test,ytest_pred[:,1]))"
   ]
  },
  {
   "cell_type": "code",
   "execution_count": 32,
   "metadata": {},
   "outputs": [
    {
     "name": "stderr",
     "output_type": "stream",
     "text": [
      "<ipython-input-32-7352a867dfb4>:3: DataConversionWarning: A column-vector y was passed when a 1d array was expected. Please change the shape of y to (n_samples,), for example using ravel().\n",
      "  random_model.fit(x_train,y_train)\n"
     ]
    },
    {
     "name": "stdout",
     "output_type": "stream",
     "text": [
      "roc train score : 0.9999998974409254\n",
      "roc test score : 0.9283541038273068\n"
     ]
    }
   ],
   "source": [
    "from sklearn.ensemble import RandomForestClassifier\n",
    "random_model = RandomForestClassifier()\n",
    "random_model.fit(x_train,y_train)\n",
    "ytrain_pred = random_model.predict_proba(x_train)\n",
    "ytest_pred = random_model.predict_proba(x_test)\n",
    "print(\"roc train score :\",roc_auc_score(y_train,ytrain_pred[:,1]))\n",
    "print(\"roc test score :\",roc_auc_score(y_test,ytest_pred[:,1]))"
   ]
  },
  {
   "cell_type": "code",
   "execution_count": 33,
   "metadata": {},
   "outputs": [
    {
     "name": "stderr",
     "output_type": "stream",
     "text": [
      "/home/timelord/anaconda3/lib/python3.8/site-packages/sklearn/utils/validation.py:73: DataConversionWarning: A column-vector y was passed when a 1d array was expected. Please change the shape of y to (n_samples, ), for example using ravel().\n",
      "  return f(**kwargs)\n"
     ]
    },
    {
     "name": "stdout",
     "output_type": "stream",
     "text": [
      "roc train score : 0.920649736351387\n",
      "roc test score : 0.9126342806691633\n"
     ]
    }
   ],
   "source": [
    "from sklearn.ensemble import AdaBoostClassifier\n",
    "ada_model = AdaBoostClassifier()\n",
    "ada_model.fit(x_train,y_train)\n",
    "ytrain_pred = ada_model.predict_proba(x_train)\n",
    "ytest_pred  = ada_model.predict_proba(x_test)\n",
    "print(\"roc train score :\",roc_auc_score(y_train,ytrain_pred[:,1]))\n",
    "print(\"roc test score :\",roc_auc_score(y_test,ytest_pred[:,1]))"
   ]
  },
  {
   "cell_type": "code",
   "execution_count": 34,
   "metadata": {},
   "outputs": [
    {
     "name": "stderr",
     "output_type": "stream",
     "text": [
      "/home/timelord/anaconda3/lib/python3.8/site-packages/sklearn/utils/validation.py:73: DataConversionWarning: A column-vector y was passed when a 1d array was expected. Please change the shape of y to (n_samples, ), for example using ravel().\n",
      "  return f(**kwargs)\n"
     ]
    },
    {
     "name": "stdout",
     "output_type": "stream",
     "text": [
      "roc train score : 0.920649736351387\n",
      "roc test score : 0.9126342806691633\n"
     ]
    }
   ],
   "source": [
    "from sklearn.neighbors import KNeighborsClassifier\n",
    "knn_model = AdaBoostClassifier()\n",
    "knn_model.fit(x_train,y_train)\n",
    "ytrain_pred = knn_model.predict_proba(x_train)\n",
    "ytest_pred  = knn_model.predict_proba(x_test)\n",
    "print(\"roc train score :\",roc_auc_score(y_train,ytrain_pred[:,1]))\n",
    "print(\"roc test score :\",roc_auc_score(y_test,ytest_pred[:,1]))"
   ]
  },
  {
   "cell_type": "code",
   "execution_count": 35,
   "metadata": {},
   "outputs": [
    {
     "name": "stdout",
     "output_type": "stream",
     "text": [
      "test ROC-AUC 0.9284345163270196\n"
     ]
    }
   ],
   "source": [
    "pred = []#predicting probablities of all the models test data\n",
    "for model in [lr,random_model,ada_model,knn_model]:\n",
    "    pred.append(pd.Series(model.predict_proba(x_test)[:,1]))\n",
    "final_prediction = pd.concat(pred,axis=1).mean(axis=1)\n",
    "print(\"test ROC-AUC\",roc_auc_score(y_test,final_prediction))"
   ]
  },
  {
   "cell_type": "code",
   "execution_count": 36,
   "metadata": {},
   "outputs": [
    {
     "data": {
      "text/html": [
       "<div>\n",
       "<style scoped>\n",
       "    .dataframe tbody tr th:only-of-type {\n",
       "        vertical-align: middle;\n",
       "    }\n",
       "\n",
       "    .dataframe tbody tr th {\n",
       "        vertical-align: top;\n",
       "    }\n",
       "\n",
       "    .dataframe thead th {\n",
       "        text-align: right;\n",
       "    }\n",
       "</style>\n",
       "<table border=\"1\" class=\"dataframe\">\n",
       "  <thead>\n",
       "    <tr style=\"text-align: right;\">\n",
       "      <th></th>\n",
       "      <th>0</th>\n",
       "      <th>1</th>\n",
       "      <th>2</th>\n",
       "      <th>3</th>\n",
       "    </tr>\n",
       "  </thead>\n",
       "  <tbody>\n",
       "    <tr>\n",
       "      <th>0</th>\n",
       "      <td>0.345147</td>\n",
       "      <td>0.400</td>\n",
       "      <td>0.488026</td>\n",
       "      <td>0.488026</td>\n",
       "    </tr>\n",
       "    <tr>\n",
       "      <th>1</th>\n",
       "      <td>0.167582</td>\n",
       "      <td>0.150</td>\n",
       "      <td>0.498887</td>\n",
       "      <td>0.498887</td>\n",
       "    </tr>\n",
       "    <tr>\n",
       "      <th>2</th>\n",
       "      <td>0.769861</td>\n",
       "      <td>0.675</td>\n",
       "      <td>0.505588</td>\n",
       "      <td>0.505588</td>\n",
       "    </tr>\n",
       "    <tr>\n",
       "      <th>3</th>\n",
       "      <td>0.607734</td>\n",
       "      <td>0.920</td>\n",
       "      <td>0.501268</td>\n",
       "      <td>0.501268</td>\n",
       "    </tr>\n",
       "    <tr>\n",
       "      <th>4</th>\n",
       "      <td>0.696099</td>\n",
       "      <td>0.820</td>\n",
       "      <td>0.509245</td>\n",
       "      <td>0.509245</td>\n",
       "    </tr>\n",
       "    <tr>\n",
       "      <th>...</th>\n",
       "      <td>...</td>\n",
       "      <td>...</td>\n",
       "      <td>...</td>\n",
       "      <td>...</td>\n",
       "    </tr>\n",
       "    <tr>\n",
       "      <th>1099</th>\n",
       "      <td>0.006825</td>\n",
       "      <td>0.060</td>\n",
       "      <td>0.472351</td>\n",
       "      <td>0.472351</td>\n",
       "    </tr>\n",
       "    <tr>\n",
       "      <th>1100</th>\n",
       "      <td>0.779588</td>\n",
       "      <td>0.670</td>\n",
       "      <td>0.503999</td>\n",
       "      <td>0.503999</td>\n",
       "    </tr>\n",
       "    <tr>\n",
       "      <th>1101</th>\n",
       "      <td>0.291989</td>\n",
       "      <td>0.020</td>\n",
       "      <td>0.471664</td>\n",
       "      <td>0.471664</td>\n",
       "    </tr>\n",
       "    <tr>\n",
       "      <th>1102</th>\n",
       "      <td>0.749345</td>\n",
       "      <td>0.850</td>\n",
       "      <td>0.506266</td>\n",
       "      <td>0.506266</td>\n",
       "    </tr>\n",
       "    <tr>\n",
       "      <th>1103</th>\n",
       "      <td>0.740804</td>\n",
       "      <td>0.880</td>\n",
       "      <td>0.506914</td>\n",
       "      <td>0.506914</td>\n",
       "    </tr>\n",
       "  </tbody>\n",
       "</table>\n",
       "<p>1104 rows × 4 columns</p>\n",
       "</div>"
      ],
      "text/plain": [
       "             0      1         2         3\n",
       "0     0.345147  0.400  0.488026  0.488026\n",
       "1     0.167582  0.150  0.498887  0.498887\n",
       "2     0.769861  0.675  0.505588  0.505588\n",
       "3     0.607734  0.920  0.501268  0.501268\n",
       "4     0.696099  0.820  0.509245  0.509245\n",
       "...        ...    ...       ...       ...\n",
       "1099  0.006825  0.060  0.472351  0.472351\n",
       "1100  0.779588  0.670  0.503999  0.503999\n",
       "1101  0.291989  0.020  0.471664  0.471664\n",
       "1102  0.749345  0.850  0.506266  0.506266\n",
       "1103  0.740804  0.880  0.506914  0.506914\n",
       "\n",
       "[1104 rows x 4 columns]"
      ]
     },
     "execution_count": 36,
     "metadata": {},
     "output_type": "execute_result"
    }
   ],
   "source": [
    "pd.concat(pred,axis=1)"
   ]
  },
  {
   "cell_type": "code",
   "execution_count": 37,
   "metadata": {},
   "outputs": [
    {
     "data": {
      "text/plain": [
       "array([1.74253537, 0.74253537, 0.72203594, 0.72201283, 0.70511234,\n",
       "       0.7043775 , 0.69999527, 0.69980769, 0.69337862, 0.69277514,\n",
       "       0.68850236, 0.68848095, 0.68624359, 0.6861191 , 0.6781271 ,\n",
       "       0.67811847, 0.67684061, 0.6767913 , 0.67616071, 0.67604921,\n",
       "       0.67521009, 0.67491339, 0.67283459, 0.67251797, 0.67187581,\n",
       "       0.67136124, 0.6701878 , 0.66953641, 0.66936262, 0.66871569,\n",
       "       0.66609024, 0.66597158, 0.66575755, 0.6653243 , 0.66427588,\n",
       "       0.66416399, 0.66312603, 0.66309627, 0.66114188, 0.66109177,\n",
       "       0.65857201, 0.65850424, 0.65833652, 0.65769152, 0.65406172,\n",
       "       0.65396477, 0.65294888, 0.65278535, 0.65054969, 0.650453  ,\n",
       "       0.64696932, 0.64667232, 0.63364739, 0.63306084, 0.6325674 ,\n",
       "       0.63242386, 0.63007585, 0.62992023, 0.62913558, 0.6289975 ,\n",
       "       0.62269114, 0.62236666, 0.62145082, 0.62143141, 0.62078702,\n",
       "       0.62019931, 0.6163373 , 0.61619111, 0.61588098, 0.61471536,\n",
       "       0.61439661, 0.61429383, 0.61366016, 0.61311086, 0.61278502,\n",
       "       0.61251385, 0.61244404, 0.61194613, 0.61114054, 0.609246  ,\n",
       "       0.60366704, 0.60329305, 0.60187854, 0.6016003 , 0.60121695,\n",
       "       0.60066879, 0.59981426, 0.5996721 , 0.59809301, 0.59769729,\n",
       "       0.59470093, 0.59407276, 0.58756947, 0.58631431, 0.58612769,\n",
       "       0.58598621, 0.58180063, 0.58143137, 0.57945099, 0.57917795,\n",
       "       0.57448626, 0.57443996, 0.57345215, 0.57235498, 0.56963463,\n",
       "       0.56940352, 0.5688581 , 0.56879811, 0.56591   , 0.56535863,\n",
       "       0.56479415, 0.564322  , 0.56377088, 0.56047043, 0.5603859 ,\n",
       "       0.55916832, 0.5589179 , 0.55789211, 0.55713871, 0.55444244,\n",
       "       0.55398057, 0.55338855, 0.55308221, 0.5484141 , 0.54828045,\n",
       "       0.54662351, 0.54257807, 0.54119339, 0.54067255, 0.54011462,\n",
       "       0.53821411, 0.5310627 , 0.53101343, 0.52720014, 0.52404427,\n",
       "       0.52366658, 0.51789   , 0.51491616, 0.51361082, 0.51171589,\n",
       "       0.5102508 , 0.50997686, 0.5095408 , 0.50953211, 0.50948138,\n",
       "       0.50407655, 0.50358313, 0.50297892, 0.5026903 , 0.50223804,\n",
       "       0.49930949, 0.49195087, 0.49048702, 0.49039399, 0.49035299,\n",
       "       0.48800409, 0.48141512, 0.47926968, 0.47847681, 0.47546808,\n",
       "       0.47495843, 0.47424034, 0.47258615, 0.4699828 , 0.46770636,\n",
       "       0.46704346, 0.46402104, 0.46312544, 0.46285423, 0.46056621,\n",
       "       0.45970443, 0.4563553 , 0.45614782, 0.45109815, 0.45043037,\n",
       "       0.44317097, 0.44199613, 0.43874531, 0.43832121, 0.43756348,\n",
       "       0.43630306, 0.43361871, 0.43324923, 0.42615694, 0.42493314,\n",
       "       0.4241354 , 0.42240206, 0.42106332, 0.4196058 , 0.41113645,\n",
       "       0.41049703, 0.39934929, 0.3987938 , 0.3961792 , 0.39453865,\n",
       "       0.38602266, 0.38292073, 0.37782551, 0.37653299, 0.37540877,\n",
       "       0.3752006 , 0.36112399, 0.36034235, 0.35707227, 0.35705583,\n",
       "       0.35525824, 0.35337436, 0.34927515, 0.3491899 , 0.34135538,\n",
       "       0.34034386, 0.32424338, 0.32182205, 0.31695037, 0.31588395,\n",
       "       0.29487285, 0.2945114 , 0.28558201, 0.28553568, 0.28092249,\n",
       "       0.28072341, 0.26778221, 0.26698142, 0.14881521, 0.146476  ])"
      ]
     },
     "execution_count": 37,
     "metadata": {},
     "output_type": "execute_result"
    }
   ],
   "source": [
    "from sklearn.metrics import roc_curve, auc #finding threshold,fpr,tpr\n",
    "fpr,tpr,threshold = roc_curve(y_test,final_prediction)\n",
    "threshold"
   ]
  },
  {
   "cell_type": "code",
   "execution_count": 38,
   "metadata": {},
   "outputs": [
    {
     "data": {
      "text/html": [
       "<div>\n",
       "<style scoped>\n",
       "    .dataframe tbody tr th:only-of-type {\n",
       "        vertical-align: middle;\n",
       "    }\n",
       "\n",
       "    .dataframe tbody tr th {\n",
       "        vertical-align: top;\n",
       "    }\n",
       "\n",
       "    .dataframe thead th {\n",
       "        text-align: right;\n",
       "    }\n",
       "</style>\n",
       "<table border=\"1\" class=\"dataframe\">\n",
       "  <thead>\n",
       "    <tr style=\"text-align: right;\">\n",
       "      <th></th>\n",
       "      <th>threshold</th>\n",
       "      <th>accuracy</th>\n",
       "    </tr>\n",
       "  </thead>\n",
       "  <tbody>\n",
       "    <tr>\n",
       "      <th>111</th>\n",
       "      <td>0.564322</td>\n",
       "      <td>0.859601</td>\n",
       "    </tr>\n",
       "    <tr>\n",
       "      <th>109</th>\n",
       "      <td>0.565359</td>\n",
       "      <td>0.858696</td>\n",
       "    </tr>\n",
       "    <tr>\n",
       "      <th>143</th>\n",
       "      <td>0.509532</td>\n",
       "      <td>0.858696</td>\n",
       "    </tr>\n",
       "    <tr>\n",
       "      <th>136</th>\n",
       "      <td>0.517890</td>\n",
       "      <td>0.858696</td>\n",
       "    </tr>\n",
       "    <tr>\n",
       "      <th>130</th>\n",
       "      <td>0.538214</td>\n",
       "      <td>0.858696</td>\n",
       "    </tr>\n",
       "  </tbody>\n",
       "</table>\n",
       "</div>"
      ],
      "text/plain": [
       "     threshold  accuracy\n",
       "111   0.564322  0.859601\n",
       "109   0.565359  0.858696\n",
       "143   0.509532  0.858696\n",
       "136   0.517890  0.858696\n",
       "130   0.538214  0.858696"
      ]
     },
     "execution_count": 38,
     "metadata": {},
     "output_type": "execute_result"
    }
   ],
   "source": [
    "from sklearn.metrics import accuracy_score #finding accuracy with different threshold\n",
    "accuracy_ls = []\n",
    "for thres in threshold:\n",
    "    y_pred = np.where(final_prediction>thres,1,0)\n",
    "    accuracy_ls.append(accuracy_score(y_test,y_pred,normalize=True))\n",
    "    \n",
    "accuracy_ls = pd.concat([pd.Series(threshold),pd.Series(accuracy_ls)],axis=1)\n",
    "accuracy_ls.columns = ['threshold','accuracy']\n",
    "accuracy_ls.sort_values(by='accuracy',ascending=False,inplace =True)\n",
    "accuracy_ls.head()\n"
   ]
  },
  {
   "cell_type": "code",
   "execution_count": 39,
   "metadata": {},
   "outputs": [
    {
     "data": {
      "text/html": [
       "<div>\n",
       "<style scoped>\n",
       "    .dataframe tbody tr th:only-of-type {\n",
       "        vertical-align: middle;\n",
       "    }\n",
       "\n",
       "    .dataframe tbody tr th {\n",
       "        vertical-align: top;\n",
       "    }\n",
       "\n",
       "    .dataframe thead th {\n",
       "        text-align: right;\n",
       "    }\n",
       "</style>\n",
       "<table border=\"1\" class=\"dataframe\">\n",
       "  <thead>\n",
       "    <tr style=\"text-align: right;\">\n",
       "      <th></th>\n",
       "      <th>threshold</th>\n",
       "      <th>accuracy</th>\n",
       "    </tr>\n",
       "  </thead>\n",
       "  <tbody>\n",
       "    <tr>\n",
       "      <th>111</th>\n",
       "      <td>0.564322</td>\n",
       "      <td>0.859601</td>\n",
       "    </tr>\n",
       "    <tr>\n",
       "      <th>109</th>\n",
       "      <td>0.565359</td>\n",
       "      <td>0.858696</td>\n",
       "    </tr>\n",
       "    <tr>\n",
       "      <th>143</th>\n",
       "      <td>0.509532</td>\n",
       "      <td>0.858696</td>\n",
       "    </tr>\n",
       "    <tr>\n",
       "      <th>136</th>\n",
       "      <td>0.517890</td>\n",
       "      <td>0.858696</td>\n",
       "    </tr>\n",
       "    <tr>\n",
       "      <th>130</th>\n",
       "      <td>0.538214</td>\n",
       "      <td>0.858696</td>\n",
       "    </tr>\n",
       "    <tr>\n",
       "      <th>...</th>\n",
       "      <td>...</td>\n",
       "      <td>...</td>\n",
       "    </tr>\n",
       "    <tr>\n",
       "      <th>2</th>\n",
       "      <td>0.722036</td>\n",
       "      <td>0.508152</td>\n",
       "    </tr>\n",
       "    <tr>\n",
       "      <th>223</th>\n",
       "      <td>0.148815</td>\n",
       "      <td>0.507246</td>\n",
       "    </tr>\n",
       "    <tr>\n",
       "      <th>224</th>\n",
       "      <td>0.146476</td>\n",
       "      <td>0.506341</td>\n",
       "    </tr>\n",
       "    <tr>\n",
       "      <th>1</th>\n",
       "      <td>0.742535</td>\n",
       "      <td>0.495471</td>\n",
       "    </tr>\n",
       "    <tr>\n",
       "      <th>0</th>\n",
       "      <td>1.742535</td>\n",
       "      <td>0.495471</td>\n",
       "    </tr>\n",
       "  </tbody>\n",
       "</table>\n",
       "<p>225 rows × 2 columns</p>\n",
       "</div>"
      ],
      "text/plain": [
       "     threshold  accuracy\n",
       "111   0.564322  0.859601\n",
       "109   0.565359  0.858696\n",
       "143   0.509532  0.858696\n",
       "136   0.517890  0.858696\n",
       "130   0.538214  0.858696\n",
       "..         ...       ...\n",
       "2     0.722036  0.508152\n",
       "223   0.148815  0.507246\n",
       "224   0.146476  0.506341\n",
       "1     0.742535  0.495471\n",
       "0     1.742535  0.495471\n",
       "\n",
       "[225 rows x 2 columns]"
      ]
     },
     "execution_count": 39,
     "metadata": {},
     "output_type": "execute_result"
    }
   ],
   "source": [
    "accuracy_ls #accuracy vs threshold"
   ]
  },
  {
   "cell_type": "markdown",
   "metadata": {},
   "source": [
    "## Final Model and Results"
   ]
  },
  {
   "cell_type": "code",
   "execution_count": 40,
   "metadata": {},
   "outputs": [
    {
     "name": "stderr",
     "output_type": "stream",
     "text": [
      "<ipython-input-40-8319deb9d4b8>:3: DataConversionWarning: A column-vector y was passed when a 1d array was expected. Please change the shape of y to (n_samples,), for example using ravel().\n",
      "  random_model.fit(x_train,y_train)\n"
     ]
    },
    {
     "name": "stdout",
     "output_type": "stream",
     "text": [
      "roc test score : 0.8611308951388182\n"
     ]
    }
   ],
   "source": [
    "from sklearn.ensemble import RandomForestClassifier #choose random forest as final model\n",
    "random_model = RandomForestClassifier( criterion='gini')\n",
    "random_model.fit(x_train,y_train)\n",
    "y_pred = random_model.predict(x_test)\n",
    "print(\"roc test score :\",roc_auc_score(y_test,y_pred))"
   ]
  },
  {
   "cell_type": "code",
   "execution_count": 41,
   "metadata": {},
   "outputs": [
    {
     "name": "stdout",
     "output_type": "stream",
     "text": [
      "0.8605072463768116\n"
     ]
    }
   ],
   "source": [
    "threshold = 0.493468 #best threshold for the model\n",
    "\n",
    "predicted_proba = random_model.predict_proba(x_test)\n",
    "predicted = (predicted_proba [:,1] >= threshold).astype('int')\n",
    "\n",
    "\n",
    "accuracy = accuracy_score(y_test, predicted)\n",
    "print(accuracy)"
   ]
  },
  {
   "cell_type": "code",
   "execution_count": 42,
   "metadata": {},
   "outputs": [
    {
     "name": "stdout",
     "output_type": "stream",
     "text": [
      "p_score 0.8423728813559322\n",
      "r_score 0.8922800718132855\n",
      "f1 score 0.8666085440278988\n"
     ]
    }
   ],
   "source": [
    "from sklearn.metrics import precision_score, recall_score, f1_score #measuring perfomance of model\n",
    "p_score = precision_score(y_test, y_pred)\n",
    "print('p_score',p_score)\n",
    "r_score = recall_score(y_test, y_pred)\n",
    "print('r_score',r_score)\n",
    "f1 = f1_score(y_test, y_pred)\n",
    "print('f1 score',f1)"
   ]
  },
  {
   "cell_type": "code",
   "execution_count": 43,
   "metadata": {},
   "outputs": [
    {
     "data": {
      "text/plain": [
       "array([[454,  93],\n",
       "       [ 60, 497]])"
      ]
     },
     "execution_count": 43,
     "metadata": {},
     "output_type": "execute_result"
    }
   ],
   "source": [
    "from sklearn.metrics import confusion_matrix # confusion matrix\n",
    "confusion_matrix(y_test,y_pred)"
   ]
  },
  {
   "cell_type": "code",
   "execution_count": null,
   "metadata": {},
   "outputs": [],
   "source": []
  },
  {
   "cell_type": "code",
   "execution_count": null,
   "metadata": {},
   "outputs": [],
   "source": []
  },
  {
   "cell_type": "code",
   "execution_count": null,
   "metadata": {},
   "outputs": [],
   "source": []
  }
 ],
 "metadata": {
  "kernelspec": {
   "display_name": "Python 3",
   "language": "python",
   "name": "python3"
  },
  "language_info": {
   "codemirror_mode": {
    "name": "ipython",
    "version": 3
   },
   "file_extension": ".py",
   "mimetype": "text/x-python",
   "name": "python",
   "nbconvert_exporter": "python",
   "pygments_lexer": "ipython3",
   "version": "3.8.3"
  }
 },
 "nbformat": 4,
 "nbformat_minor": 4
}
